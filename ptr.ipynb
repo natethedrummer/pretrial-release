{
 "cells": [
  {
   "cell_type": "markdown",
   "metadata": {
    "slideshow": {
     "slide_type": "slide"
    }
   },
   "source": [
    "# <center>Identifying Factors that Influence Bond Amount, Pre-Trial Status at Disposition, and Disposition Outcome</center>  \n",
    "## <center>A cross-sectional statistical analysis of Harris County felony defendant records</center>"
   ]
  },
  {
   "cell_type": "code",
   "execution_count": 1,
   "metadata": {
    "code_folding": [],
    "hideCode": true,
    "hideOutput": false,
    "slideshow": {
     "slide_type": "skip"
    }
   },
   "outputs": [],
   "source": [
    "# import packages\n",
    "import numpy as np\n",
    "import pandas as pd\n",
    "\n",
    "from scipy import stats\n",
    "stats.chisqprob = lambda chisq, df: stats.chi2.sf(chisq, df)\n",
    "import statsmodels.formula.api as smf\n",
    "\n",
    "%matplotlib inline\n",
    "\n",
    "# read felony records dataset\n",
    "df = pd.read_csv('https://raw.github.com/natethedrummer/pretrial-release/master/felony_offenses.csv')\n",
    "\n",
    "# convert SPN from number to string\n",
    "df['SPN'] = df['SPN'].astype(str)\n",
    "\n",
    "# bin offense\n",
    "series_offense = pd.Series({'ARSON': 'ARSON',\n",
    "                          'SALE DRUG': 'DRUG',\n",
    "                          'POSS DRUG': 'DRUG',\n",
    "                          'FEL DWI': 'DWI',\n",
    "                          'KIDNAPPING': 'KIDNAPPING',\n",
    "                          'CAP MURDER': 'MURDER',\n",
    "                          'CAPITAL MURDER': 'MURDER',\n",
    "                          'ASLT-MURDR': 'MURDER',\n",
    "                          'MURD/MANSL': 'MURDER',\n",
    "                          'MURDER': 'MURDER',\n",
    "                          'ROBBERY': 'ROBBERY',\n",
    "                          'THEFT': 'ROBBERY',\n",
    "                          'BURGLARY': 'ROBBERY',\n",
    "                          'burglary': 'ROBBERY',\n",
    "                          'AUTO THEFT': 'ROBBERY',\n",
    "                          'RAPE': 'SEX ABUSE',\n",
    "                          'SEX ABUSE': 'SEX ABUSE',\n",
    "                          'OTHER FEL': 'OTHER',\n",
    "                          'OTHERMISD': 'OTHER'})\n",
    "df['offense_bin'] = df['Offense'].map(series_offense)\n",
    "\n",
    "# binary offense variables\n",
    "offense_list = df['offense_bin'].unique().tolist()\n",
    "for offense in offense_list:\n",
    "    series = pd.Series({offense: 1})\n",
    "    df[offense] = df['offense_bin'].map(series)\n",
    "    df[offense].fillna(value=0, inplace=True)\n",
    "\n",
    "# Felony Class Offense\n",
    "df['FC'] = np.where(df['OffenseClass']=='FC', 1, 0)    \n",
    "df['F1'] = np.where(df['OffenseClass']=='F1', 1, 0)    \n",
    "df['F2'] = np.where(df['OffenseClass']=='F2', 1, 0)    \n",
    "df['F3'] = np.where(df['OffenseClass']=='F3', 1, 0)    \n",
    "df['FS'] = np.where(df['OffenseClass']=='FS', 1, 0)    \n",
    "\n",
    "# priors\n",
    "df.rename(columns={'Misd priors': 'Prior Misdemeanor Count'}, inplace=True)\n",
    "df['Prior Misdemeanor'] = np.where(df['Prior Misdemeanor Count']>=1, 1, 0)\n",
    "df.rename(columns={'felony priors': 'Prior Felony Count'}, inplace=True)\n",
    "df['Prior Felony'] = np.where(df['Prior Felony Count']>=1, 1, 0)\n",
    "\n",
    "# dwi\n",
    "series = pd.Series({'DWI': 1})\n",
    "df['DWI'] = df['offense_bin'].map(series)\n",
    "df['DWI'].fillna(value=0, inplace=True)\n",
    "\n",
    "# family offense\n",
    "df['Offense Against Family'] = df['OffenseDescription'].str.contains('fam|chil|kid', case=False, na=False)\n",
    "df['Offense Against Family'] = df['Offense Against Family'].astype(int)\n",
    "\n",
    "# race\n",
    "series = pd.Series({'BLACK': 1})\n",
    "df['Black'] = df['race'].map(series)\n",
    "df['Black'].fillna(value=0, inplace=True)\n",
    "series = pd.Series({'HISPANIC': 1})\n",
    "df['Hispanic'] = df['race'].map(series)\n",
    "df['Hispanic'].fillna(value=0, inplace=True)\n",
    "series = pd.Series({'WHITE': 1})\n",
    "df['White'] = df['race'].map(series)\n",
    "df['White'].fillna(value=0, inplace=True)\n",
    "\n",
    "# sex\n",
    "series = pd.Series({'F': 1})\n",
    "df['Female'] = df['gender'].map(series)\n",
    "df['Female'].fillna(value=0, inplace=True)\n",
    "series = pd.Series({'M': 1})\n",
    "df['Male'] = df['gender'].map(series)\n",
    "df['Male'].fillna(value=0, inplace=True)\n",
    "\n",
    "# pretrial status at disposition\n",
    "sbc = pd.Series({'DETAINED': 'Detained',\n",
    "                 'ON BOND': 'On Bond',\n",
    "                 'NON -ARREST - NOT BOOKED - DEFERRED': 'Deferred',\n",
    "                 'NON-ARREST - NOT BOOKED - DISMISSED': 'Dismissed',\n",
    "                 'NON ARREST - NOT BOOKED - NO BILL': 'No Bill'})\n",
    "df['PRETRIAL STATUS AT DISPOSITION'] = df['PRETRIAL STATUS AT DISPOSITION'].map(sbc)\n",
    "\n",
    "# on bond at disposition \n",
    "df['On_Bond'] = np.where(df['PRETRIAL STATUS AT DISPOSITION']=='On Bond', 1, 0)    \n",
    "\n",
    "# detained at disposition \n",
    "df['Detained'] = np.where(df['PRETRIAL STATUS AT DISPOSITION']=='Detained', 1, 0)    \n",
    " \n",
    "# bond category\n",
    "sps = pd.Series({'2000 or less': '$2,000 or less',\n",
    "                 '2001-5000': '$2,001-$5,000',\n",
    "                 '5001-10000': '$5,001-$10,000',\n",
    "                 '10001-20000': '$10,001-$20,000',\n",
    "                 '> 20000': 'Greater than $20,000',\n",
    "                 'NO BOND': 'No Bond'})\n",
    "df['BOND CAT'] = df['BOND CAT'].map(sps)\n",
    "df['BOND CAT'] = pd.Categorical(df['BOND CAT'], ['$2,000 or less',\n",
    "                                                    '$2,001-$5,000',\n",
    "                                                    '$5,001-$10,000',\n",
    "                                                    '$10,001-$20,000',\n",
    "                                                    'Greater than $20,000',\n",
    "                                                    'No Bond'])\n",
    "\n",
    "# counsel type\n",
    "df['Hired Attorney'] = np.where(df['counsel_type']=='Hired Attorney', 1, 0)    \n",
    "df['Appointed Attorney'] = np.where(df['counsel_type']=='Appointed Attorney', 1, 0)    \n",
    "df['Public Defender'] = np.where(df['counsel_type']=='Public Defender', 1, 0)    \n",
    "df['Unknown Counsel'] = np.where(df['counsel_type']=='Other/Unknown', 1, 0)    \n",
    "\n",
    "# bond type\n",
    "df = df.rename(columns={'bail type made simple': 'Bail Type'})\n",
    "df['PTR'] = np.where(df['Bail Type']=='PTR', 1, 0)    \n",
    "df['Surety'] = np.where(df['Bail Type']=='SURETY', 1, 0)    \n",
    "df['Cash'] = np.where(df['Bail Type']=='CASH', 1, 0)    \n",
    "df['None'] = np.where(df['Bail Type']=='NONE', 1, 0)  \n",
    "\n",
    "# age\n",
    "df['Age'] = df['age'].replace(to_replace='#VALUE!', value='0').astype(float)\n",
    "df['Age'] = df['Age'].replace(to_replace=0, value=np.nan)\n",
    "\n",
    "# judgement\n",
    "sjc = pd.Series({'ACQUITTAL insane': 'Acquitted',\n",
    "                 'JURY ACQUITTAL': 'Acquitted',\n",
    "                 'AQUITTAL': 'Acquitted',\n",
    "                 'NOT GUILTY BY JURY VERDICT': 'Acquitted',\n",
    "                 'CONV BY JURY VERDICT': 'Convicted',\n",
    "                 'DEFENDANT CONVICTED ON ANOTHER CHARGE': 'Convicted',\n",
    "                 'GUILTY  JURY verdict': 'Convicted',\n",
    "                 'GUILTY JURY VERDICT': 'Convicted',\n",
    "                 'GUILTY PLEA - NO JURY': 'Convicted',\n",
    "                 'plead guilty': 'Convicted',\n",
    "                 'JURY VERDCT': 'Convicted',\n",
    "                 'JURY VERDICT': 'Convicted',\n",
    "                 'JURY verdict': 'Convicted',\n",
    "                 'jury verdict': 'Convicted',\n",
    "                 'nolo contendre': 'Convicted',\n",
    "                 'nolo contendre no jury': 'Convicted',\n",
    "                 'DEFERRED ADJUDICATION': 'Deferred',\n",
    "                 'DEFERRED ADJUDICATION ': 'Deferred',\n",
    "                 'pretrial diversion': 'Deferred',\n",
    "                 'DISMISSED': 'Dismissed',\n",
    "                 'SURETYPTRc ': 'Dismissed',\n",
    "                 'NO BILL': 'No Bill'})\n",
    "df['JUDGEMENT'] = df['JUDGEMENT'].map(sjc)\n",
    "\n",
    "# convicted \n",
    "df['Convicted'] = np.where(df['JUDGEMENT']=='Convicted', 1, 0)    "
   ]
  },
  {
   "cell_type": "markdown",
   "metadata": {
    "hideCode": false,
    "slideshow": {
     "slide_type": "subslide"
    }
   },
   "source": [
    "# Data Source for Statistical Analysis \n",
    "The records of 3,189 Harris County felony defendants were made available.  Some of these 3,189 defendants were excluded from analysis.  \n",
    "* 244 defendants were excluded from analysis because they were not booked.  \n",
    "* An additional 455 defendants were excluded from analysis because they were denied bail.  \n",
    "* The remaining 2,490 defendants were included in analysis.  "
   ]
  },
  {
   "cell_type": "code",
   "execution_count": 2,
   "metadata": {
    "hideCode": true
   },
   "outputs": [
    {
     "data": {
      "text/html": [
       "<div>\n",
       "<style scoped>\n",
       "    .dataframe tbody tr th:only-of-type {\n",
       "        vertical-align: middle;\n",
       "    }\n",
       "\n",
       "    .dataframe tbody tr th {\n",
       "        vertical-align: top;\n",
       "    }\n",
       "\n",
       "    .dataframe thead th {\n",
       "        text-align: right;\n",
       "    }\n",
       "</style>\n",
       "<table border=\"1\" class=\"dataframe\">\n",
       "  <thead>\n",
       "    <tr style=\"text-align: right;\">\n",
       "      <th></th>\n",
       "      <th>Booked Status</th>\n",
       "      <th>Bond Category</th>\n",
       "      <th>N Defendants</th>\n",
       "      <th>% Defendants</th>\n",
       "    </tr>\n",
       "  </thead>\n",
       "  <tbody>\n",
       "    <tr>\n",
       "      <th>0</th>\n",
       "      <td>Booked</td>\n",
       "      <td>$2,000 or less</td>\n",
       "      <td>342</td>\n",
       "      <td>11%</td>\n",
       "    </tr>\n",
       "    <tr>\n",
       "      <th>1</th>\n",
       "      <td>Booked</td>\n",
       "      <td>$2,001-$5,000</td>\n",
       "      <td>409</td>\n",
       "      <td>13%</td>\n",
       "    </tr>\n",
       "    <tr>\n",
       "      <th>2</th>\n",
       "      <td>Booked</td>\n",
       "      <td>$5,001-$10,000</td>\n",
       "      <td>409</td>\n",
       "      <td>13%</td>\n",
       "    </tr>\n",
       "    <tr>\n",
       "      <th>3</th>\n",
       "      <td>Booked</td>\n",
       "      <td>$10,001-$20,000</td>\n",
       "      <td>704</td>\n",
       "      <td>22%</td>\n",
       "    </tr>\n",
       "    <tr>\n",
       "      <th>4</th>\n",
       "      <td>Booked</td>\n",
       "      <td>Greater than $20,000</td>\n",
       "      <td>626</td>\n",
       "      <td>20%</td>\n",
       "    </tr>\n",
       "    <tr>\n",
       "      <th>5</th>\n",
       "      <td>Booked</td>\n",
       "      <td>No Bond</td>\n",
       "      <td>455</td>\n",
       "      <td>14%</td>\n",
       "    </tr>\n",
       "    <tr>\n",
       "      <th>6</th>\n",
       "      <td>Not Booked</td>\n",
       "      <td>$2,000 or less</td>\n",
       "      <td>87</td>\n",
       "      <td>3%</td>\n",
       "    </tr>\n",
       "    <tr>\n",
       "      <th>7</th>\n",
       "      <td>Not Booked</td>\n",
       "      <td>$2,001-$5,000</td>\n",
       "      <td>61</td>\n",
       "      <td>2%</td>\n",
       "    </tr>\n",
       "    <tr>\n",
       "      <th>8</th>\n",
       "      <td>Not Booked</td>\n",
       "      <td>$5,001-$10,000</td>\n",
       "      <td>37</td>\n",
       "      <td>1%</td>\n",
       "    </tr>\n",
       "    <tr>\n",
       "      <th>9</th>\n",
       "      <td>Not Booked</td>\n",
       "      <td>$10,001-$20,000</td>\n",
       "      <td>28</td>\n",
       "      <td>1%</td>\n",
       "    </tr>\n",
       "    <tr>\n",
       "      <th>10</th>\n",
       "      <td>Not Booked</td>\n",
       "      <td>Greater than $20,000</td>\n",
       "      <td>25</td>\n",
       "      <td>1%</td>\n",
       "    </tr>\n",
       "    <tr>\n",
       "      <th>11</th>\n",
       "      <td>Not Booked</td>\n",
       "      <td>No Bond</td>\n",
       "      <td>6</td>\n",
       "      <td>0%</td>\n",
       "    </tr>\n",
       "  </tbody>\n",
       "</table>\n",
       "</div>"
      ],
      "text/plain": [
       "   Booked Status         Bond Category N Defendants % Defendants\n",
       "0         Booked        $2,000 or less          342          11%\n",
       "1         Booked         $2,001-$5,000          409          13%\n",
       "2         Booked        $5,001-$10,000          409          13%\n",
       "3         Booked       $10,001-$20,000          704          22%\n",
       "4         Booked  Greater than $20,000          626          20%\n",
       "5         Booked               No Bond          455          14%\n",
       "6     Not Booked        $2,000 or less           87           3%\n",
       "7     Not Booked         $2,001-$5,000           61           2%\n",
       "8     Not Booked        $5,001-$10,000           37           1%\n",
       "9     Not Booked       $10,001-$20,000           28           1%\n",
       "10    Not Booked  Greater than $20,000           25           1%\n",
       "11    Not Booked               No Bond            6           0%"
      ]
     },
     "execution_count": 2,
     "metadata": {},
     "output_type": "execute_result"
    }
   ],
   "source": [
    "dft = df.groupby(['HCJ Booked', 'BOND CAT'])['SPN'].count().reset_index().rename(columns={'SPN': 'N Defendants',\n",
    "                                                                             'HCJ Booked': 'Booked Status',\n",
    "                                                                            'BOND CAT': 'Bond Category'})\n",
    "dft['% Defendants'] = round((dft['N Defendants'] / dft['N Defendants'].sum()) * 100).astype(int).astype(str) + '%'\n",
    "dft['N Defendants'] = dft['N Defendants'].map('{:,.0f}'.format)\n",
    "dft"
   ]
  },
  {
   "cell_type": "code",
   "execution_count": 3,
   "metadata": {
    "hideCode": true
   },
   "outputs": [],
   "source": [
    "df = df.loc[df['HCJ Booked'] == 'Booked']\n",
    "df = df.loc[df['BOND CAT'] != 'No Bond']"
   ]
  },
  {
   "cell_type": "markdown",
   "metadata": {},
   "source": [
    "# Descriptive Statistics of Defendants"
   ]
  },
  {
   "cell_type": "markdown",
   "metadata": {},
   "source": [
    "## Bond Amount  \n",
    "The median bond amount was $15,000 and the average was $23,424.  14% of defendants had a bond amount of $2,000 or less.  "
   ]
  },
  {
   "cell_type": "code",
   "execution_count": 4,
   "metadata": {
    "hideCode": true
   },
   "outputs": [
    {
     "data": {
      "text/html": [
       "<div>\n",
       "<style scoped>\n",
       "    .dataframe tbody tr th:only-of-type {\n",
       "        vertical-align: middle;\n",
       "    }\n",
       "\n",
       "    .dataframe tbody tr th {\n",
       "        vertical-align: top;\n",
       "    }\n",
       "\n",
       "    .dataframe thead th {\n",
       "        text-align: right;\n",
       "    }\n",
       "</style>\n",
       "<table border=\"1\" class=\"dataframe\">\n",
       "  <thead>\n",
       "    <tr style=\"text-align: right;\">\n",
       "      <th></th>\n",
       "      <th>Statistic</th>\n",
       "      <th>Bond Amount</th>\n",
       "    </tr>\n",
       "  </thead>\n",
       "  <tbody>\n",
       "    <tr>\n",
       "      <th>1</th>\n",
       "      <td>mean</td>\n",
       "      <td>$23,424</td>\n",
       "    </tr>\n",
       "    <tr>\n",
       "      <th>2</th>\n",
       "      <td>std</td>\n",
       "      <td>$60,125</td>\n",
       "    </tr>\n",
       "    <tr>\n",
       "      <th>3</th>\n",
       "      <td>min</td>\n",
       "      <td>$1,000</td>\n",
       "    </tr>\n",
       "    <tr>\n",
       "      <th>4</th>\n",
       "      <td>25%</td>\n",
       "      <td>$5,000</td>\n",
       "    </tr>\n",
       "    <tr>\n",
       "      <th>5</th>\n",
       "      <td>50%</td>\n",
       "      <td>$15,000</td>\n",
       "    </tr>\n",
       "    <tr>\n",
       "      <th>6</th>\n",
       "      <td>75%</td>\n",
       "      <td>$24,250</td>\n",
       "    </tr>\n",
       "    <tr>\n",
       "      <th>7</th>\n",
       "      <td>max</td>\n",
       "      <td>$2,000,000</td>\n",
       "    </tr>\n",
       "  </tbody>\n",
       "</table>\n",
       "</div>"
      ],
      "text/plain": [
       "  Statistic Bond Amount\n",
       "1      mean     $23,424\n",
       "2       std     $60,125\n",
       "3       min      $1,000\n",
       "4       25%      $5,000\n",
       "5       50%     $15,000\n",
       "6       75%     $24,250\n",
       "7       max  $2,000,000"
      ]
     },
     "execution_count": 4,
     "metadata": {},
     "output_type": "execute_result"
    }
   ],
   "source": [
    "dft = df.copy(deep=True)\n",
    "dft['Bond Amount'] = dft['BOND $'].astype(float)\n",
    "dft = dft['Bond Amount'].describe().reset_index()\n",
    "dft = dft.rename(columns={'index': 'Statistic'})\n",
    "dft['Bond Amount'] = dft['Bond Amount'].apply(lambda x: '${:,.0f}'.format(x))\n",
    "dft = dft.loc[dft['Statistic'] != 'count']\n",
    "dft"
   ]
  },
  {
   "cell_type": "code",
   "execution_count": 5,
   "metadata": {
    "hideCode": true
   },
   "outputs": [
    {
     "data": {
      "text/html": [
       "<div>\n",
       "<style scoped>\n",
       "    .dataframe tbody tr th:only-of-type {\n",
       "        vertical-align: middle;\n",
       "    }\n",
       "\n",
       "    .dataframe tbody tr th {\n",
       "        vertical-align: top;\n",
       "    }\n",
       "\n",
       "    .dataframe thead th {\n",
       "        text-align: right;\n",
       "    }\n",
       "</style>\n",
       "<table border=\"1\" class=\"dataframe\">\n",
       "  <thead>\n",
       "    <tr style=\"text-align: right;\">\n",
       "      <th></th>\n",
       "      <th>Bond Category</th>\n",
       "      <th>N Defendants</th>\n",
       "      <th>% Defendants</th>\n",
       "    </tr>\n",
       "  </thead>\n",
       "  <tbody>\n",
       "    <tr>\n",
       "      <th>0</th>\n",
       "      <td>$2,000 or less</td>\n",
       "      <td>342</td>\n",
       "      <td>14%</td>\n",
       "    </tr>\n",
       "    <tr>\n",
       "      <th>1</th>\n",
       "      <td>$2,001-$5,000</td>\n",
       "      <td>409</td>\n",
       "      <td>16%</td>\n",
       "    </tr>\n",
       "    <tr>\n",
       "      <th>2</th>\n",
       "      <td>$5,001-$10,000</td>\n",
       "      <td>409</td>\n",
       "      <td>16%</td>\n",
       "    </tr>\n",
       "    <tr>\n",
       "      <th>3</th>\n",
       "      <td>$10,001-$20,000</td>\n",
       "      <td>704</td>\n",
       "      <td>28%</td>\n",
       "    </tr>\n",
       "    <tr>\n",
       "      <th>4</th>\n",
       "      <td>Greater than $20,000</td>\n",
       "      <td>626</td>\n",
       "      <td>25%</td>\n",
       "    </tr>\n",
       "    <tr>\n",
       "      <th>5</th>\n",
       "      <td>No Bond</td>\n",
       "      <td>0</td>\n",
       "      <td>0%</td>\n",
       "    </tr>\n",
       "  </tbody>\n",
       "</table>\n",
       "</div>"
      ],
      "text/plain": [
       "          Bond Category N Defendants % Defendants\n",
       "0        $2,000 or less          342          14%\n",
       "1         $2,001-$5,000          409          16%\n",
       "2        $5,001-$10,000          409          16%\n",
       "3       $10,001-$20,000          704          28%\n",
       "4  Greater than $20,000          626          25%\n",
       "5               No Bond            0           0%"
      ]
     },
     "execution_count": 5,
     "metadata": {},
     "output_type": "execute_result"
    }
   ],
   "source": [
    "dft = df.copy(deep=True)\n",
    "dft = dft.groupby(['BOND CAT'])['SPN'].count().reset_index().rename(columns={'SPN': 'N Defendants',\n",
    "                                                                      'BOND CAT': 'Bond Category'})\n",
    "dft['% Defendants'] = round((dft['N Defendants'] / dft['N Defendants'].sum()) * 100).astype(int).astype(str) + '%'\n",
    "dft['N Defendants'] = dft['N Defendants'].map('{:,.0f}'.format)\n",
    "dft"
   ]
  },
  {
   "cell_type": "markdown",
   "metadata": {
    "hideCode": false,
    "slideshow": {
     "slide_type": "subslide"
    }
   },
   "source": [
    "## Pre-Trial Status at Disposition  \n",
    "Of the 2,490 defendants, only 898 (36%) were on bond at disposition. "
   ]
  },
  {
   "cell_type": "code",
   "execution_count": 6,
   "metadata": {
    "hideCode": true
   },
   "outputs": [
    {
     "data": {
      "text/html": [
       "<div>\n",
       "<style scoped>\n",
       "    .dataframe tbody tr th:only-of-type {\n",
       "        vertical-align: middle;\n",
       "    }\n",
       "\n",
       "    .dataframe tbody tr th {\n",
       "        vertical-align: top;\n",
       "    }\n",
       "\n",
       "    .dataframe thead th {\n",
       "        text-align: right;\n",
       "    }\n",
       "</style>\n",
       "<table border=\"1\" class=\"dataframe\">\n",
       "  <thead>\n",
       "    <tr style=\"text-align: right;\">\n",
       "      <th></th>\n",
       "      <th>Pre-Trial Status at Disposition</th>\n",
       "      <th>N Defendants</th>\n",
       "      <th>% Defendants</th>\n",
       "    </tr>\n",
       "  </thead>\n",
       "  <tbody>\n",
       "    <tr>\n",
       "      <th>0</th>\n",
       "      <td>Detained</td>\n",
       "      <td>1,592</td>\n",
       "      <td>64%</td>\n",
       "    </tr>\n",
       "    <tr>\n",
       "      <th>1</th>\n",
       "      <td>On Bond</td>\n",
       "      <td>898</td>\n",
       "      <td>36%</td>\n",
       "    </tr>\n",
       "  </tbody>\n",
       "</table>\n",
       "</div>"
      ],
      "text/plain": [
       "  Pre-Trial Status at Disposition N Defendants % Defendants\n",
       "0                        Detained        1,592          64%\n",
       "1                         On Bond          898          36%"
      ]
     },
     "execution_count": 6,
     "metadata": {},
     "output_type": "execute_result"
    }
   ],
   "source": [
    "dft = df.copy(deep=True)\n",
    "dft = dft.groupby(['PRETRIAL STATUS AT DISPOSITION'])['SPN'].count().reset_index().rename(columns={'SPN': 'N Defendants',\n",
    "                                                                            'PRETRIAL STATUS AT DISPOSITION': 'Pre-Trial Status at Disposition'})\n",
    "dft['% Defendants'] = round((dft['N Defendants'] / dft['N Defendants'].sum()) * 100).astype(int).astype(str) + '%'\n",
    "dft['N Defendants'] = dft['N Defendants'].map('{:,.0f}'.format)\n",
    "dft"
   ]
  },
  {
   "cell_type": "markdown",
   "metadata": {
    "hideCode": false,
    "slideshow": {
     "slide_type": "subslide"
    }
   },
   "source": [
    "## Disposition Outcome  \n",
    "2 out of 2,490 defendants had no judgment information.  Out of 2,488 defendants, 1,069 (43%) were not convicted. "
   ]
  },
  {
   "cell_type": "code",
   "execution_count": 7,
   "metadata": {
    "hideCode": true
   },
   "outputs": [
    {
     "data": {
      "text/html": [
       "<div>\n",
       "<style scoped>\n",
       "    .dataframe tbody tr th:only-of-type {\n",
       "        vertical-align: middle;\n",
       "    }\n",
       "\n",
       "    .dataframe tbody tr th {\n",
       "        vertical-align: top;\n",
       "    }\n",
       "\n",
       "    .dataframe thead th {\n",
       "        text-align: right;\n",
       "    }\n",
       "</style>\n",
       "<table border=\"1\" class=\"dataframe\">\n",
       "  <thead>\n",
       "    <tr style=\"text-align: right;\">\n",
       "      <th></th>\n",
       "      <th>Judgement</th>\n",
       "      <th>N Defendants</th>\n",
       "      <th>% Defendants</th>\n",
       "    </tr>\n",
       "  </thead>\n",
       "  <tbody>\n",
       "    <tr>\n",
       "      <th>0</th>\n",
       "      <td>Acquitted</td>\n",
       "      <td>4</td>\n",
       "      <td>0%</td>\n",
       "    </tr>\n",
       "    <tr>\n",
       "      <th>1</th>\n",
       "      <td>Convicted</td>\n",
       "      <td>1,419</td>\n",
       "      <td>57%</td>\n",
       "    </tr>\n",
       "    <tr>\n",
       "      <th>2</th>\n",
       "      <td>Deferred</td>\n",
       "      <td>610</td>\n",
       "      <td>25%</td>\n",
       "    </tr>\n",
       "    <tr>\n",
       "      <th>3</th>\n",
       "      <td>Dismissed</td>\n",
       "      <td>382</td>\n",
       "      <td>15%</td>\n",
       "    </tr>\n",
       "    <tr>\n",
       "      <th>4</th>\n",
       "      <td>No Bill</td>\n",
       "      <td>73</td>\n",
       "      <td>3%</td>\n",
       "    </tr>\n",
       "  </tbody>\n",
       "</table>\n",
       "</div>"
      ],
      "text/plain": [
       "   Judgement N Defendants % Defendants\n",
       "0  Acquitted            4           0%\n",
       "1  Convicted        1,419          57%\n",
       "2   Deferred          610          25%\n",
       "3  Dismissed          382          15%\n",
       "4    No Bill           73           3%"
      ]
     },
     "execution_count": 7,
     "metadata": {},
     "output_type": "execute_result"
    }
   ],
   "source": [
    "dft = df.copy(deep=True)\n",
    "dft = dft.groupby(['JUDGEMENT'])['SPN'].count().reset_index().rename(columns={'SPN': 'N Defendants',\n",
    "                                                                            'JUDGEMENT': 'Judgement'})\n",
    "dft['% Defendants'] = round((dft['N Defendants'] / dft['N Defendants'].sum()) * 100).astype(int).astype(str) + '%'\n",
    "dft['N Defendants'] = dft['N Defendants'].map('{:,.0f}'.format)\n",
    "dft"
   ]
  },
  {
   "cell_type": "markdown",
   "metadata": {
    "hideCode": false,
    "slideshow": {
     "slide_type": "subslide"
    }
   },
   "source": [
    "## Bail Type  \n",
    "Of the 2,490 defendants, 1,427 (57%) never posted bail.  "
   ]
  },
  {
   "cell_type": "code",
   "execution_count": 8,
   "metadata": {
    "hideCode": true
   },
   "outputs": [
    {
     "data": {
      "text/html": [
       "<div>\n",
       "<style scoped>\n",
       "    .dataframe tbody tr th:only-of-type {\n",
       "        vertical-align: middle;\n",
       "    }\n",
       "\n",
       "    .dataframe tbody tr th {\n",
       "        vertical-align: top;\n",
       "    }\n",
       "\n",
       "    .dataframe thead th {\n",
       "        text-align: right;\n",
       "    }\n",
       "</style>\n",
       "<table border=\"1\" class=\"dataframe\">\n",
       "  <thead>\n",
       "    <tr style=\"text-align: right;\">\n",
       "      <th></th>\n",
       "      <th>Bail Type</th>\n",
       "      <th>N Defendants</th>\n",
       "      <th>% Defendants</th>\n",
       "    </tr>\n",
       "  </thead>\n",
       "  <tbody>\n",
       "    <tr>\n",
       "      <th>0</th>\n",
       "      <td>CASH</td>\n",
       "      <td>4</td>\n",
       "      <td>0%</td>\n",
       "    </tr>\n",
       "    <tr>\n",
       "      <th>1</th>\n",
       "      <td>NONE</td>\n",
       "      <td>1,427</td>\n",
       "      <td>57%</td>\n",
       "    </tr>\n",
       "    <tr>\n",
       "      <th>2</th>\n",
       "      <td>PTR</td>\n",
       "      <td>44</td>\n",
       "      <td>2%</td>\n",
       "    </tr>\n",
       "    <tr>\n",
       "      <th>3</th>\n",
       "      <td>SURETY</td>\n",
       "      <td>1,015</td>\n",
       "      <td>41%</td>\n",
       "    </tr>\n",
       "  </tbody>\n",
       "</table>\n",
       "</div>"
      ],
      "text/plain": [
       "  Bail Type N Defendants % Defendants\n",
       "0      CASH            4           0%\n",
       "1      NONE        1,427          57%\n",
       "2       PTR           44           2%\n",
       "3    SURETY        1,015          41%"
      ]
     },
     "execution_count": 8,
     "metadata": {},
     "output_type": "execute_result"
    }
   ],
   "source": [
    "dft = df.copy(deep=True)\n",
    "dft = dft.groupby(['Bail Type'])['SPN'].count().reset_index().rename(columns={'SPN': 'N Defendants'})\n",
    "dft['% Defendants'] = round((dft['N Defendants'] / dft['N Defendants'].sum()) * 100).astype(int).astype(str) + '%'\n",
    "dft['N Defendants'] = dft['N Defendants'].map('{:,.0f}'.format)\n",
    "dft"
   ]
  },
  {
   "cell_type": "markdown",
   "metadata": {
    "hideCode": false,
    "slideshow": {
     "slide_type": "subslide"
    }
   },
   "source": [
    "## Counsel Type  \n",
    "Of the 2,490 defendants, only 848 (34%) hired an attorney.  "
   ]
  },
  {
   "cell_type": "code",
   "execution_count": 9,
   "metadata": {
    "hideCode": true
   },
   "outputs": [
    {
     "data": {
      "text/html": [
       "<div>\n",
       "<style scoped>\n",
       "    .dataframe tbody tr th:only-of-type {\n",
       "        vertical-align: middle;\n",
       "    }\n",
       "\n",
       "    .dataframe tbody tr th {\n",
       "        vertical-align: top;\n",
       "    }\n",
       "\n",
       "    .dataframe thead th {\n",
       "        text-align: right;\n",
       "    }\n",
       "</style>\n",
       "<table border=\"1\" class=\"dataframe\">\n",
       "  <thead>\n",
       "    <tr style=\"text-align: right;\">\n",
       "      <th></th>\n",
       "      <th>Counsel Type</th>\n",
       "      <th>N Defendants</th>\n",
       "      <th>% Defendants</th>\n",
       "    </tr>\n",
       "  </thead>\n",
       "  <tbody>\n",
       "    <tr>\n",
       "      <th>0</th>\n",
       "      <td>Appointed Attorney</td>\n",
       "      <td>1,445</td>\n",
       "      <td>58%</td>\n",
       "    </tr>\n",
       "    <tr>\n",
       "      <th>1</th>\n",
       "      <td>Hired Attorney</td>\n",
       "      <td>848</td>\n",
       "      <td>34%</td>\n",
       "    </tr>\n",
       "    <tr>\n",
       "      <th>2</th>\n",
       "      <td>Other/Unknown</td>\n",
       "      <td>58</td>\n",
       "      <td>2%</td>\n",
       "    </tr>\n",
       "    <tr>\n",
       "      <th>3</th>\n",
       "      <td>Public Defender</td>\n",
       "      <td>139</td>\n",
       "      <td>6%</td>\n",
       "    </tr>\n",
       "  </tbody>\n",
       "</table>\n",
       "</div>"
      ],
      "text/plain": [
       "         Counsel Type N Defendants % Defendants\n",
       "0  Appointed Attorney        1,445          58%\n",
       "1      Hired Attorney          848          34%\n",
       "2       Other/Unknown           58           2%\n",
       "3     Public Defender          139           6%"
      ]
     },
     "execution_count": 9,
     "metadata": {},
     "output_type": "execute_result"
    }
   ],
   "source": [
    "dft = df.copy(deep=True)\n",
    "dft = dft.groupby(['counsel_type'])['SPN'].count().reset_index().rename(columns={'SPN': 'N Defendants',\n",
    "                                                                                'counsel_type': 'Counsel Type'})\n",
    "dft['% Defendants'] = round((dft['N Defendants'] / dft['N Defendants'].sum()) * 100).astype(int).astype(str) + '%'\n",
    "dft['N Defendants'] = dft['N Defendants'].map('{:,.0f}'.format)\n",
    "dft"
   ]
  },
  {
   "cell_type": "markdown",
   "metadata": {
    "hideCode": false,
    "slideshow": {
     "slide_type": "subslide"
    }
   },
   "source": [
    "## Race  \n",
    "Of the 2,490 defendants, 1,850 (74%) were not White.  "
   ]
  },
  {
   "cell_type": "code",
   "execution_count": 10,
   "metadata": {
    "hideCode": true
   },
   "outputs": [
    {
     "data": {
      "text/html": [
       "<div>\n",
       "<style scoped>\n",
       "    .dataframe tbody tr th:only-of-type {\n",
       "        vertical-align: middle;\n",
       "    }\n",
       "\n",
       "    .dataframe tbody tr th {\n",
       "        vertical-align: top;\n",
       "    }\n",
       "\n",
       "    .dataframe thead th {\n",
       "        text-align: right;\n",
       "    }\n",
       "</style>\n",
       "<table border=\"1\" class=\"dataframe\">\n",
       "  <thead>\n",
       "    <tr style=\"text-align: right;\">\n",
       "      <th></th>\n",
       "      <th>Race</th>\n",
       "      <th>N Defendants</th>\n",
       "      <th>% Defendants</th>\n",
       "    </tr>\n",
       "  </thead>\n",
       "  <tbody>\n",
       "    <tr>\n",
       "      <th>0</th>\n",
       "      <td>BLACK</td>\n",
       "      <td>1,217</td>\n",
       "      <td>49%</td>\n",
       "    </tr>\n",
       "    <tr>\n",
       "      <th>1</th>\n",
       "      <td>HISPANIC</td>\n",
       "      <td>606</td>\n",
       "      <td>24%</td>\n",
       "    </tr>\n",
       "    <tr>\n",
       "      <th>2</th>\n",
       "      <td>OTHER</td>\n",
       "      <td>27</td>\n",
       "      <td>1%</td>\n",
       "    </tr>\n",
       "    <tr>\n",
       "      <th>3</th>\n",
       "      <td>WHITE</td>\n",
       "      <td>640</td>\n",
       "      <td>26%</td>\n",
       "    </tr>\n",
       "  </tbody>\n",
       "</table>\n",
       "</div>"
      ],
      "text/plain": [
       "       Race N Defendants % Defendants\n",
       "0     BLACK        1,217          49%\n",
       "1  HISPANIC          606          24%\n",
       "2     OTHER           27           1%\n",
       "3     WHITE          640          26%"
      ]
     },
     "execution_count": 10,
     "metadata": {},
     "output_type": "execute_result"
    }
   ],
   "source": [
    "dft = df.copy(deep=True)\n",
    "dft = dft.groupby(['race'])['SPN'].count().reset_index().rename(columns={'SPN': 'N Defendants',\n",
    "                                                                                'race': 'Race'})\n",
    "dft['% Defendants'] = round((dft['N Defendants'] / dft['N Defendants'].sum()) * 100).astype(int).astype(str) + '%'\n",
    "dft['N Defendants'] = dft['N Defendants'].map('{:,.0f}'.format)\n",
    "dft"
   ]
  },
  {
   "cell_type": "markdown",
   "metadata": {
    "hideCode": false,
    "slideshow": {
     "slide_type": "subslide"
    }
   },
   "source": [
    "## Gender  \n",
    "Of the 2,490 defendants, 2,053 (82%) were Male.  "
   ]
  },
  {
   "cell_type": "code",
   "execution_count": 11,
   "metadata": {
    "hideCode": true
   },
   "outputs": [
    {
     "data": {
      "text/html": [
       "<div>\n",
       "<style scoped>\n",
       "    .dataframe tbody tr th:only-of-type {\n",
       "        vertical-align: middle;\n",
       "    }\n",
       "\n",
       "    .dataframe tbody tr th {\n",
       "        vertical-align: top;\n",
       "    }\n",
       "\n",
       "    .dataframe thead th {\n",
       "        text-align: right;\n",
       "    }\n",
       "</style>\n",
       "<table border=\"1\" class=\"dataframe\">\n",
       "  <thead>\n",
       "    <tr style=\"text-align: right;\">\n",
       "      <th></th>\n",
       "      <th>Gender</th>\n",
       "      <th>N Defendants</th>\n",
       "      <th>% Defendants</th>\n",
       "    </tr>\n",
       "  </thead>\n",
       "  <tbody>\n",
       "    <tr>\n",
       "      <th>0</th>\n",
       "      <td>F</td>\n",
       "      <td>437</td>\n",
       "      <td>18%</td>\n",
       "    </tr>\n",
       "    <tr>\n",
       "      <th>1</th>\n",
       "      <td>M</td>\n",
       "      <td>2,053</td>\n",
       "      <td>82%</td>\n",
       "    </tr>\n",
       "  </tbody>\n",
       "</table>\n",
       "</div>"
      ],
      "text/plain": [
       "  Gender N Defendants % Defendants\n",
       "0      F          437          18%\n",
       "1      M        2,053          82%"
      ]
     },
     "execution_count": 11,
     "metadata": {},
     "output_type": "execute_result"
    }
   ],
   "source": [
    "dft = df.copy(deep=True)\n",
    "dft = dft.groupby(['gender'])['SPN'].count().reset_index().rename(columns={'SPN': 'N Defendants',\n",
    "                                                                                'gender': 'Gender'})\n",
    "dft['% Defendants'] = round((dft['N Defendants'] / dft['N Defendants'].sum()) * 100).astype(int).astype(str) + '%'\n",
    "dft['N Defendants'] = dft['N Defendants'].map('{:,.0f}'.format)\n",
    "dft"
   ]
  },
  {
   "cell_type": "markdown",
   "metadata": {
    "hideCode": false,
    "slideshow": {
     "slide_type": "subslide"
    }
   },
   "source": [
    "## Age  \n",
    "Of the 2,490 defendants, the median age was 30 and the average was 32."
   ]
  },
  {
   "cell_type": "code",
   "execution_count": 12,
   "metadata": {
    "hideCode": true
   },
   "outputs": [
    {
     "data": {
      "text/html": [
       "<div>\n",
       "<style scoped>\n",
       "    .dataframe tbody tr th:only-of-type {\n",
       "        vertical-align: middle;\n",
       "    }\n",
       "\n",
       "    .dataframe tbody tr th {\n",
       "        vertical-align: top;\n",
       "    }\n",
       "\n",
       "    .dataframe thead th {\n",
       "        text-align: right;\n",
       "    }\n",
       "</style>\n",
       "<table border=\"1\" class=\"dataframe\">\n",
       "  <thead>\n",
       "    <tr style=\"text-align: right;\">\n",
       "      <th></th>\n",
       "      <th>Statistic</th>\n",
       "      <th>Age</th>\n",
       "    </tr>\n",
       "  </thead>\n",
       "  <tbody>\n",
       "    <tr>\n",
       "      <th>1</th>\n",
       "      <td>mean</td>\n",
       "      <td>32</td>\n",
       "    </tr>\n",
       "    <tr>\n",
       "      <th>2</th>\n",
       "      <td>std</td>\n",
       "      <td>11</td>\n",
       "    </tr>\n",
       "    <tr>\n",
       "      <th>3</th>\n",
       "      <td>min</td>\n",
       "      <td>17</td>\n",
       "    </tr>\n",
       "    <tr>\n",
       "      <th>4</th>\n",
       "      <td>25%</td>\n",
       "      <td>24</td>\n",
       "    </tr>\n",
       "    <tr>\n",
       "      <th>5</th>\n",
       "      <td>50%</td>\n",
       "      <td>30</td>\n",
       "    </tr>\n",
       "    <tr>\n",
       "      <th>6</th>\n",
       "      <td>75%</td>\n",
       "      <td>40</td>\n",
       "    </tr>\n",
       "    <tr>\n",
       "      <th>7</th>\n",
       "      <td>max</td>\n",
       "      <td>82</td>\n",
       "    </tr>\n",
       "  </tbody>\n",
       "</table>\n",
       "</div>"
      ],
      "text/plain": [
       "  Statistic  Age\n",
       "1      mean   32\n",
       "2       std   11\n",
       "3       min   17\n",
       "4       25%   24\n",
       "5       50%   30\n",
       "6       75%   40\n",
       "7       max   82"
      ]
     },
     "execution_count": 12,
     "metadata": {},
     "output_type": "execute_result"
    }
   ],
   "source": [
    "dft = df.copy(deep=True)\n",
    "dft = dft['Age'].describe().reset_index()\n",
    "dft = dft.rename(columns={'index': 'Statistic'})\n",
    "dft['Age'] = dft['Age'].astype(int)\n",
    "dft = dft.loc[dft['Statistic'] != 'count']\n",
    "dft"
   ]
  },
  {
   "cell_type": "markdown",
   "metadata": {
    "hideCode": false,
    "slideshow": {
     "slide_type": "subslide"
    }
   },
   "source": [
    "## Offense Class  \n",
    "6 of the 2,490 defendants had no offense class information.  1 defendant was charged with capital murder and was not denied bail.  Out of the 2,484 defendants, 1,234 (50%) were charged with a state level felony.  \n",
    "Going forward, the analysis will exclude the 6 defendants with no offense class information, the 15 defendants with offense class F, and the single defendant who was charged with capital murder yet was not denied bail.  The resulting sample size is 2,468."
   ]
  },
  {
   "cell_type": "code",
   "execution_count": 13,
   "metadata": {
    "hideCode": true
   },
   "outputs": [
    {
     "data": {
      "text/html": [
       "<div>\n",
       "<style scoped>\n",
       "    .dataframe tbody tr th:only-of-type {\n",
       "        vertical-align: middle;\n",
       "    }\n",
       "\n",
       "    .dataframe tbody tr th {\n",
       "        vertical-align: top;\n",
       "    }\n",
       "\n",
       "    .dataframe thead th {\n",
       "        text-align: right;\n",
       "    }\n",
       "</style>\n",
       "<table border=\"1\" class=\"dataframe\">\n",
       "  <thead>\n",
       "    <tr style=\"text-align: right;\">\n",
       "      <th></th>\n",
       "      <th>Offense Class</th>\n",
       "      <th>N Defendants</th>\n",
       "      <th>% Defendants</th>\n",
       "    </tr>\n",
       "  </thead>\n",
       "  <tbody>\n",
       "    <tr>\n",
       "      <th>0</th>\n",
       "      <td>F</td>\n",
       "      <td>15</td>\n",
       "      <td>1%</td>\n",
       "    </tr>\n",
       "    <tr>\n",
       "      <th>1</th>\n",
       "      <td>F1</td>\n",
       "      <td>239</td>\n",
       "      <td>10%</td>\n",
       "    </tr>\n",
       "    <tr>\n",
       "      <th>2</th>\n",
       "      <td>F2</td>\n",
       "      <td>446</td>\n",
       "      <td>18%</td>\n",
       "    </tr>\n",
       "    <tr>\n",
       "      <th>3</th>\n",
       "      <td>F3</td>\n",
       "      <td>549</td>\n",
       "      <td>22%</td>\n",
       "    </tr>\n",
       "    <tr>\n",
       "      <th>4</th>\n",
       "      <td>FC</td>\n",
       "      <td>1</td>\n",
       "      <td>0%</td>\n",
       "    </tr>\n",
       "    <tr>\n",
       "      <th>5</th>\n",
       "      <td>FS</td>\n",
       "      <td>1,234</td>\n",
       "      <td>50%</td>\n",
       "    </tr>\n",
       "  </tbody>\n",
       "</table>\n",
       "</div>"
      ],
      "text/plain": [
       "  Offense Class N Defendants % Defendants\n",
       "0             F           15           1%\n",
       "1            F1          239          10%\n",
       "2            F2          446          18%\n",
       "3            F3          549          22%\n",
       "4            FC            1           0%\n",
       "5            FS        1,234          50%"
      ]
     },
     "execution_count": 13,
     "metadata": {},
     "output_type": "execute_result"
    }
   ],
   "source": [
    "dft = df.copy(deep=True)\n",
    "dft = dft.groupby(['OffenseClass'])['SPN'].count().reset_index().rename(columns={'SPN': 'N Defendants',\n",
    "                                                                                'OffenseClass': 'Offense Class'})\n",
    "dft['% Defendants'] = round((dft['N Defendants'] / dft['N Defendants'].sum()) * 100).astype(int).astype(str) + '%'\n",
    "dft['N Defendants'] = dft['N Defendants'].map('{:,.0f}'.format)\n",
    "dft"
   ]
  },
  {
   "cell_type": "code",
   "execution_count": 14,
   "metadata": {
    "hideCode": true
   },
   "outputs": [],
   "source": [
    "df = df.loc[df['OffenseClass'] != 'F']\n",
    "df = df.loc[df['OffenseClass'] != 'FC']\n",
    "df = df.dropna(subset=['OffenseClass'])"
   ]
  },
  {
   "cell_type": "markdown",
   "metadata": {
    "hideCode": false,
    "slideshow": {
     "slide_type": "subslide"
    }
   },
   "source": [
    "## Prior Charges \n",
    "Out of the 2,468 defendants, 666 (27%) had no prior felony or misdemeanor charges.  "
   ]
  },
  {
   "cell_type": "code",
   "execution_count": 15,
   "metadata": {
    "hideCode": true
   },
   "outputs": [
    {
     "data": {
      "text/html": [
       "<div>\n",
       "<style scoped>\n",
       "    .dataframe tbody tr th:only-of-type {\n",
       "        vertical-align: middle;\n",
       "    }\n",
       "\n",
       "    .dataframe tbody tr th {\n",
       "        vertical-align: top;\n",
       "    }\n",
       "\n",
       "    .dataframe thead th {\n",
       "        text-align: right;\n",
       "    }\n",
       "</style>\n",
       "<table border=\"1\" class=\"dataframe\">\n",
       "  <thead>\n",
       "    <tr style=\"text-align: right;\">\n",
       "      <th></th>\n",
       "      <th>Prior Felony</th>\n",
       "      <th>Prior Misdemeanor</th>\n",
       "      <th>N Defendants</th>\n",
       "      <th>% Defendants</th>\n",
       "    </tr>\n",
       "  </thead>\n",
       "  <tbody>\n",
       "    <tr>\n",
       "      <th>0</th>\n",
       "      <td>0</td>\n",
       "      <td>0</td>\n",
       "      <td>666</td>\n",
       "      <td>27%</td>\n",
       "    </tr>\n",
       "    <tr>\n",
       "      <th>1</th>\n",
       "      <td>0</td>\n",
       "      <td>1</td>\n",
       "      <td>497</td>\n",
       "      <td>20%</td>\n",
       "    </tr>\n",
       "    <tr>\n",
       "      <th>2</th>\n",
       "      <td>1</td>\n",
       "      <td>0</td>\n",
       "      <td>183</td>\n",
       "      <td>7%</td>\n",
       "    </tr>\n",
       "    <tr>\n",
       "      <th>3</th>\n",
       "      <td>1</td>\n",
       "      <td>1</td>\n",
       "      <td>1,122</td>\n",
       "      <td>45%</td>\n",
       "    </tr>\n",
       "  </tbody>\n",
       "</table>\n",
       "</div>"
      ],
      "text/plain": [
       "   Prior Felony  Prior Misdemeanor N Defendants % Defendants\n",
       "0             0                  0          666          27%\n",
       "1             0                  1          497          20%\n",
       "2             1                  0          183           7%\n",
       "3             1                  1        1,122          45%"
      ]
     },
     "execution_count": 15,
     "metadata": {},
     "output_type": "execute_result"
    }
   ],
   "source": [
    "dft = df.copy(deep=True)\n",
    "dft = dft.groupby(['Prior Felony', 'Prior Misdemeanor'])['SPN'].count().reset_index().rename(columns={'SPN': 'N Defendants'})\n",
    "dft['% Defendants'] = round((dft['N Defendants'] / dft['N Defendants'].sum()) * 100).astype(int).astype(str) + '%'\n",
    "dft['N Defendants'] = dft['N Defendants'].map('{:,.0f}'.format)\n",
    "dft"
   ]
  },
  {
   "cell_type": "markdown",
   "metadata": {
    "slideshow": {
     "slide_type": "slide"
    }
   },
   "source": [
    "# Demographics, Offense Class, and Prior Charges Influence Bond Amount  \n",
    "A linear regression model was used to identify factors that have a statistically significant relationship with bond amount.  Bond amount was transformed using the natural logarithm function.  \n",
    "Hispanics, men, and older folks tend to get set a higher bond amount regardless of the offense class and prior charges.  \n",
    "Hiring a private attorney does not significantly influence bond amount"
   ]
  },
  {
   "cell_type": "code",
   "execution_count": 16,
   "metadata": {
    "hideCode": true
   },
   "outputs": [
    {
     "data": {
      "text/html": [
       "<table class=\"simpletable\">\n",
       "<tr>\n",
       "        <td>Model:</td>               <td>OLS</td>         <td>Adj. R-squared:</td>     <td>0.394</td>  \n",
       "</tr>\n",
       "<tr>\n",
       "  <td>Dependent Variable:</td>  <td>Bond_Amount_ln</td>         <td>AIC:</td>         <td>6142.6314</td>\n",
       "</tr>\n",
       "<tr>\n",
       "         <td>Date:</td>        <td>2018-04-22 23:25</td>        <td>BIC:</td>         <td>6194.9318</td>\n",
       "</tr>\n",
       "<tr>\n",
       "   <td>No. Observations:</td>        <td>2468</td>         <td>Log-Likelihood:</td>    <td>-3062.3</td> \n",
       "</tr>\n",
       "<tr>\n",
       "       <td>Df Model:</td>              <td>8</td>           <td>F-statistic:</td>       <td>201.2</td>  \n",
       "</tr>\n",
       "<tr>\n",
       "     <td>Df Residuals:</td>          <td>2459</td>       <td>Prob (F-statistic):</td> <td>2.45e-262</td>\n",
       "</tr>\n",
       "<tr>\n",
       "      <td>R-squared:</td>            <td>0.396</td>            <td>Scale:</td>         <td>0.70285</td> \n",
       "</tr>\n",
       "</table>\n",
       "<table class=\"simpletable\">\n",
       "<tr>\n",
       "         <td></td>         <th>Coef.</th> <th>Std.Err.</th>     <th>t</th>     <th>P>|t|</th> <th>[0.025</th>  <th>0.975]</th>\n",
       "</tr>\n",
       "<tr>\n",
       "  <th>Intercept</th>      <td>7.9732</td>  <td>0.0688</td>  <td>115.8603</td> <td>0.0000</td> <td>7.8383</td>  <td>8.1081</td>\n",
       "</tr>\n",
       "<tr>\n",
       "  <th>F1</th>             <td>1.8775</td>  <td>0.0611</td>   <td>30.7155</td> <td>0.0000</td> <td>1.7576</td>  <td>1.9974</td>\n",
       "</tr>\n",
       "<tr>\n",
       "  <th>F2</th>             <td>1.1912</td>  <td>0.0479</td>   <td>24.8689</td> <td>0.0000</td> <td>1.0973</td>  <td>1.2852</td>\n",
       "</tr>\n",
       "<tr>\n",
       "  <th>F3</th>             <td>0.3914</td>  <td>0.0441</td>   <td>8.8683</td>  <td>0.0000</td> <td>0.3048</td>  <td>0.4779</td>\n",
       "</tr>\n",
       "<tr>\n",
       "  <th>Prior_Felony</th>   <td>0.5482</td>  <td>0.0364</td>   <td>15.0648</td> <td>0.0000</td> <td>0.4768</td>  <td>0.6195</td>\n",
       "</tr>\n",
       "<tr>\n",
       "  <th>Hispanic</th>       <td>0.1690</td>  <td>0.0403</td>   <td>4.1986</td>  <td>0.0000</td> <td>0.0901</td>  <td>0.2480</td>\n",
       "</tr>\n",
       "<tr>\n",
       "  <th>Male</th>           <td>0.2087</td>  <td>0.0452</td>   <td>4.6135</td>  <td>0.0000</td> <td>0.1200</td>  <td>0.2974</td>\n",
       "</tr>\n",
       "<tr>\n",
       "  <th>Age</th>            <td>0.0129</td>  <td>0.0016</td>   <td>8.2722</td>  <td>0.0000</td> <td>0.0098</td>  <td>0.0159</td>\n",
       "</tr>\n",
       "<tr>\n",
       "  <th>Hired_Attorney</th> <td>0.0193</td>  <td>0.0374</td>   <td>0.5154</td>  <td>0.6063</td> <td>-0.0541</td> <td>0.0926</td>\n",
       "</tr>\n",
       "</table>\n",
       "<table class=\"simpletable\">\n",
       "<tr>\n",
       "     <td>Omnibus:</td>    <td>201.701</td>  <td>Durbin-Watson:</td>    <td>1.964</td> \n",
       "</tr>\n",
       "<tr>\n",
       "  <td>Prob(Omnibus):</td>  <td>0.000</td>  <td>Jarque-Bera (JB):</td> <td>307.902</td>\n",
       "</tr>\n",
       "<tr>\n",
       "       <td>Skew:</td>      <td>0.631</td>      <td>Prob(JB):</td>      <td>0.000</td> \n",
       "</tr>\n",
       "<tr>\n",
       "     <td>Kurtosis:</td>    <td>4.185</td>   <td>Condition No.:</td>     <td>160</td>  \n",
       "</tr>\n",
       "</table>"
      ],
      "text/plain": [
       "<class 'statsmodels.iolib.summary2.Summary'>\n",
       "\"\"\"\n",
       "                 Results: Ordinary least squares\n",
       "==================================================================\n",
       "Model:              OLS              Adj. R-squared:     0.394    \n",
       "Dependent Variable: Bond_Amount_ln   AIC:                6142.6314\n",
       "Date:               2018-04-22 23:25 BIC:                6194.9318\n",
       "No. Observations:   2468             Log-Likelihood:     -3062.3  \n",
       "Df Model:           8                F-statistic:        201.2    \n",
       "Df Residuals:       2459             Prob (F-statistic): 2.45e-262\n",
       "R-squared:          0.396            Scale:              0.70285  \n",
       "-------------------------------------------------------------------\n",
       "                Coef.   Std.Err.     t      P>|t|    [0.025  0.975]\n",
       "-------------------------------------------------------------------\n",
       "Intercept       7.9732    0.0688  115.8603  0.0000   7.8383  8.1081\n",
       "F1              1.8775    0.0611   30.7155  0.0000   1.7576  1.9974\n",
       "F2              1.1912    0.0479   24.8689  0.0000   1.0973  1.2852\n",
       "F3              0.3914    0.0441    8.8683  0.0000   0.3048  0.4779\n",
       "Prior_Felony    0.5482    0.0364   15.0648  0.0000   0.4768  0.6195\n",
       "Hispanic        0.1690    0.0403    4.1986  0.0000   0.0901  0.2480\n",
       "Male            0.2087    0.0452    4.6135  0.0000   0.1200  0.2974\n",
       "Age             0.0129    0.0016    8.2722  0.0000   0.0098  0.0159\n",
       "Hired_Attorney  0.0193    0.0374    0.5154  0.6063  -0.0541  0.0926\n",
       "------------------------------------------------------------------\n",
       "Omnibus:             201.701       Durbin-Watson:          1.964  \n",
       "Prob(Omnibus):       0.000         Jarque-Bera (JB):       307.902\n",
       "Skew:                0.631         Prob(JB):               0.000  \n",
       "Kurtosis:            4.185         Condition No.:          160    \n",
       "==================================================================\n",
       "\n",
       "\"\"\""
      ]
     },
     "execution_count": 16,
     "metadata": {},
     "output_type": "execute_result"
    }
   ],
   "source": [
    "df_bond = df.copy(deep=True)\n",
    "df_bond['Bond Amount'] = df_bond['BOND $'].astype(float)\n",
    "df_bond['Bond_Amount_ln'] = np.log(df_bond['Bond Amount'])\n",
    "df_bond = df_bond.rename(columns={'Prior Felony': 'Prior_Felony',\n",
    "                                 'Hired Attorney': 'Hired_Attorney',\n",
    "                                 'Appointed Attorney': 'Appointed_Attorney'})\n",
    "results = smf.ols('Bond_Amount_ln ~ F1 + F2 + F3 + Prior_Felony + Hispanic + Male + Age + Hired_Attorney', data=df_bond).fit()\n",
    "results.summary2()"
   ]
  },
  {
   "cell_type": "markdown",
   "metadata": {
    "slideshow": {
     "slide_type": "slide"
    }
   },
   "source": [
    "# Bond Amount and Counsel Type Influence Pre-Trial Status at Disposition  \n",
    "A binary logistic regression model was used to identify factors that have a statistically significant relationship with being detained at disposition.  \n",
    "Hiring a private attorney significantly reduces the likelihood of being detained at disposition, regardless of bond amount."
   ]
  },
  {
   "cell_type": "code",
   "execution_count": 17,
   "metadata": {
    "hideCode": true
   },
   "outputs": [
    {
     "data": {
      "text/html": [
       "<table class=\"simpletable\">\n",
       "<tr>\n",
       "        <td>Model:</td>              <td>Logit</td>           <td>AIC:</td>        <td>2301.7830</td> \n",
       "</tr>\n",
       "<tr>\n",
       "  <td>Dependent Variable:</td>     <td>Detained</td>          <td>BIC:</td>        <td>2319.2165</td> \n",
       "</tr>\n",
       "<tr>\n",
       "         <td>Date:</td>        <td>2018-04-22 23:25</td> <td>Log-Likelihood:</td>   <td>-1147.9</td>  \n",
       "</tr>\n",
       "<tr>\n",
       "   <td>No. Observations:</td>        <td>2468</td>          <td>LL-Null:</td>       <td>-1612.9</td>  \n",
       "</tr>\n",
       "<tr>\n",
       "       <td>Df Model:</td>              <td>2</td>         <td>LLR p-value:</td>   <td>1.0818e-202</td>\n",
       "</tr>\n",
       "<tr>\n",
       "     <td>Df Residuals:</td>          <td>2465</td>           <td>Scale:</td>        <td>1.0000</td>   \n",
       "</tr>\n",
       "<tr>\n",
       "   <td>Pseudo R-squared:</td>        <td>0.288</td>             <td></td>              <td></td>      \n",
       "</tr>\n",
       "</table>\n",
       "<table class=\"simpletable\">\n",
       "<tr>\n",
       "         <td></td>         <th>Coef.</th>  <th>Std.Err.</th>     <th>z</th>     <th>P>|z|</th> <th>[0.025</th>  <th>0.975]</th> \n",
       "</tr>\n",
       "<tr>\n",
       "  <th>Intercept</th>      <td>-3.4061</td>  <td>0.4608</td>   <td>-7.3918</td> <td>0.0000</td> <td>-4.3093</td> <td>-2.5030</td>\n",
       "</tr>\n",
       "<tr>\n",
       "  <th>Bond_Amount_ln</th> <td>0.5490</td>   <td>0.0507</td>   <td>10.8263</td> <td>0.0000</td> <td>0.4496</td>  <td>0.6484</td> \n",
       "</tr>\n",
       "<tr>\n",
       "  <th>Hired_Attorney</th> <td>-2.9410</td>  <td>0.1143</td>  <td>-25.7238</td> <td>0.0000</td> <td>-3.1651</td> <td>-2.7169</td>\n",
       "</tr>\n",
       "</table>"
      ],
      "text/plain": [
       "<class 'statsmodels.iolib.summary2.Summary'>\n",
       "\"\"\"\n",
       "                         Results: Logit\n",
       "================================================================\n",
       "Model:              Logit            AIC:            2301.7830  \n",
       "Dependent Variable: Detained         BIC:            2319.2165  \n",
       "Date:               2018-04-22 23:25 Log-Likelihood: -1147.9    \n",
       "No. Observations:   2468             LL-Null:        -1612.9    \n",
       "Df Model:           2                LLR p-value:    1.0818e-202\n",
       "Df Residuals:       2465             Scale:          1.0000     \n",
       "Pseudo R-squared:   0.288                                       \n",
       "----------------------------------------------------------------\n",
       "                 Coef.  Std.Err.    z     P>|z|   [0.025  0.975]\n",
       "----------------------------------------------------------------\n",
       "Intercept       -3.4061   0.4608  -7.3918 0.0000 -4.3093 -2.5030\n",
       "Bond_Amount_ln   0.5490   0.0507  10.8263 0.0000  0.4496  0.6484\n",
       "Hired_Attorney  -2.9410   0.1143 -25.7238 0.0000 -3.1651 -2.7169\n",
       "================================================================\n",
       "\n",
       "\"\"\""
      ]
     },
     "execution_count": 17,
     "metadata": {},
     "output_type": "execute_result"
    }
   ],
   "source": [
    "df_ptr = df.copy(deep=True)\n",
    "df_ptr['Bond Amount'] = df_ptr['BOND $'].astype(float)\n",
    "df_ptr['Bond_Amount_ln'] = np.log(df_ptr['Bond Amount'])\n",
    "df_ptr = df_ptr.rename(columns={'Prior Felony': 'Prior_Felony',\n",
    "                                 'Hired Attorney': 'Hired_Attorney',\n",
    "                                 'Appointed Attorney': 'Appointed_Attorney'})\n",
    "results = smf.logit('Detained ~ Bond_Amount_ln + Hired_Attorney', data=df_ptr).fit(full_output=False, disp=False)\n",
    "results.summary2()"
   ]
  },
  {
   "cell_type": "markdown",
   "metadata": {
    "slideshow": {
     "slide_type": "slide"
    }
   },
   "source": [
    "# Pre-Trial Status Influences Disposition Outcome  \n",
    "A binary logistic regression model was used to identify factors that have a statistically significant relationship with a conviction disposition outcome.  \n",
    "Being detained at disposition significantly increases the likelihood of being convicted, regardless of prior charges."
   ]
  },
  {
   "cell_type": "code",
   "execution_count": 18,
   "metadata": {
    "hideCode": true
   },
   "outputs": [
    {
     "data": {
      "text/html": [
       "<table class=\"simpletable\">\n",
       "<tr>\n",
       "        <td>Model:</td>              <td>Logit</td>           <td>AIC:</td>        <td>2817.4463</td> \n",
       "</tr>\n",
       "<tr>\n",
       "  <td>Dependent Variable:</td>     <td>Convicted</td>         <td>BIC:</td>        <td>2834.8798</td> \n",
       "</tr>\n",
       "<tr>\n",
       "         <td>Date:</td>        <td>2018-04-22 23:25</td> <td>Log-Likelihood:</td>   <td>-1405.7</td>  \n",
       "</tr>\n",
       "<tr>\n",
       "   <td>No. Observations:</td>        <td>2468</td>          <td>LL-Null:</td>       <td>-1687.2</td>  \n",
       "</tr>\n",
       "<tr>\n",
       "       <td>Df Model:</td>              <td>2</td>         <td>LLR p-value:</td>   <td>5.7448e-123</td>\n",
       "</tr>\n",
       "<tr>\n",
       "     <td>Df Residuals:</td>          <td>2465</td>           <td>Scale:</td>        <td>1.0000</td>   \n",
       "</tr>\n",
       "<tr>\n",
       "   <td>Pseudo R-squared:</td>        <td>0.167</td>             <td></td>              <td></td>      \n",
       "</tr>\n",
       "</table>\n",
       "<table class=\"simpletable\">\n",
       "<tr>\n",
       "        <td></td>        <th>Coef.</th>  <th>Std.Err.</th>     <th>z</th>     <th>P>|z|</th> <th>[0.025</th>  <th>0.975]</th> \n",
       "</tr>\n",
       "<tr>\n",
       "  <th>Intercept</th>    <td>-1.2822</td>  <td>0.0866</td>  <td>-14.8047</td> <td>0.0000</td> <td>-1.4519</td> <td>-1.1124</td>\n",
       "</tr>\n",
       "<tr>\n",
       "  <th>Detained</th>     <td>1.3143</td>   <td>0.0949</td>   <td>13.8541</td> <td>0.0000</td> <td>1.1284</td>  <td>1.5003</td> \n",
       "</tr>\n",
       "<tr>\n",
       "  <th>Prior_Felony</th> <td>1.4601</td>   <td>0.0918</td>   <td>15.8978</td> <td>0.0000</td> <td>1.2801</td>  <td>1.6401</td> \n",
       "</tr>\n",
       "</table>"
      ],
      "text/plain": [
       "<class 'statsmodels.iolib.summary2.Summary'>\n",
       "\"\"\"\n",
       "                         Results: Logit\n",
       "================================================================\n",
       "Model:              Logit            AIC:            2817.4463  \n",
       "Dependent Variable: Convicted        BIC:            2834.8798  \n",
       "Date:               2018-04-22 23:25 Log-Likelihood: -1405.7    \n",
       "No. Observations:   2468             LL-Null:        -1687.2    \n",
       "Df Model:           2                LLR p-value:    5.7448e-123\n",
       "Df Residuals:       2465             Scale:          1.0000     \n",
       "Pseudo R-squared:   0.167                                       \n",
       "----------------------------------------------------------------\n",
       "                 Coef.  Std.Err.    z     P>|z|   [0.025  0.975]\n",
       "----------------------------------------------------------------\n",
       "Intercept       -1.2822   0.0866 -14.8047 0.0000 -1.4519 -1.1124\n",
       "Detained         1.3143   0.0949  13.8541 0.0000  1.1284  1.5003\n",
       "Prior_Felony     1.4601   0.0918  15.8978 0.0000  1.2801  1.6401\n",
       "================================================================\n",
       "\n",
       "\"\"\""
      ]
     },
     "execution_count": 18,
     "metadata": {},
     "output_type": "execute_result"
    }
   ],
   "source": [
    "df_dispo = df.copy(deep=True)\n",
    "df_dispo['Bond Amount'] = df_dispo['BOND $'].astype(float)\n",
    "df_dispo['Bond_Amount_ln'] = np.log(df_dispo['Bond Amount'])\n",
    "df_dispo = df_dispo.rename(columns={'Prior Felony': 'Prior_Felony',\n",
    "                                 'Hired Attorney': 'Hired_Attorney',\n",
    "                                 'Appointed Attorney': 'Appointed_Attorney'})\n",
    "results = smf.logit('Convicted ~ Detained + Prior_Felony', data=df_dispo).fit(full_output=False, disp=False)\n",
    "results.summary2()"
   ]
  }
 ],
 "metadata": {
  "celltoolbar": "Hide code",
  "kernelspec": {
   "display_name": "Python 3",
   "language": "python",
   "name": "python3"
  },
  "language_info": {
   "codemirror_mode": {
    "name": "ipython",
    "version": 3
   },
   "file_extension": ".py",
   "mimetype": "text/x-python",
   "name": "python",
   "nbconvert_exporter": "python",
   "pygments_lexer": "ipython3",
   "version": "3.6.5"
  }
 },
 "nbformat": 4,
 "nbformat_minor": 2
}
