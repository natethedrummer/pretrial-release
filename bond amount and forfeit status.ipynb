{
 "cells": [
  {
   "cell_type": "markdown",
   "metadata": {
    "hideCode": false,
    "hidePrompt": false
   },
   "source": [
    "# import packages"
   ]
  },
  {
   "cell_type": "code",
   "execution_count": 5,
   "metadata": {},
   "outputs": [],
   "source": [
    "%matplotlib inline \n",
    "import os\n",
    "import numpy as np\n",
    "import pandas as pd\n",
    "import matplotlib.pyplot as plt \n",
    "import seaborn as sns\n",
    "from scipy.stats import ttest_ind"
   ]
  },
  {
   "cell_type": "markdown",
   "metadata": {
    "hideCode": false,
    "hidePrompt": false
   },
   "source": [
    "# import bond data provided by Harris County"
   ]
  },
  {
   "cell_type": "code",
   "execution_count": 7,
   "metadata": {},
   "outputs": [],
   "source": [
    "path = './fworrrevisedwheeler'\n",
    "\n",
    "file_list = ['/DATA - Wheeler (2017 approvals - felony).xlsx',\n",
    "'/DATA - Wheeler (2018 approvals - felony).xlsx']\n",
    "df_list = []\n",
    "for file in file_list: \n",
    "    for i in range(5):\n",
    "        df_iter = pd.read_excel(path+file, sheet_name=i)\n",
    "        df_list.append(df_iter)\n",
    "    approvals = pd.concat(df_list)\n",
    "    approvals['CaseNumber'] = approvals['CaseNumber'].astype(str)\n",
    "\n",
    "file_list = ['/DATA - Wheeler (2017 forfeitures - felony).xlsx',\n",
    "'/DATA - Wheeler (2018 forfeitures - felony).xlsx']\n",
    "df_list = []\n",
    "for file in file_list: \n",
    "    for i in range(5):\n",
    "        df_iter = pd.read_excel(path+file, sheet_name=i)\n",
    "        df_list.append(df_iter)\n",
    "        forfeitures = pd.concat(df_list)\n",
    "    forfeitures['CaseNumber'] = forfeitures['CaseNumber'].str[:-1]\n",
    "    forfeitures['CaseNumber'] = forfeitures['CaseNumber'] + '0'\n",
    "    forfeitures['ForfDate'] = forfeitures['ForfDate'].astype(int)\n",
    "    forfeitures['ForfDate'] = pd.to_datetime(forfeitures['ForfDate'], format='%Y%m%d')\n"
   ]
  },
  {
   "cell_type": "markdown",
   "metadata": {
    "hideCode": false,
    "hidePrompt": false
   },
   "source": [
    "# determine who forfeitted"
   ]
  },
  {
   "cell_type": "code",
   "execution_count": 8,
   "metadata": {
    "hideCode": false,
    "hidePrompt": false
   },
   "outputs": [],
   "source": [
    "df = approvals.merge(forfeitures, on='CaseNumber', how='left', suffixes=('_app', '_for'))\n",
    "\n",
    "df = df.dropna(subset=['BondAmtMade'])\n",
    "\n",
    "df['forfeit'] = np.where(df['ForfDate'] > df['DateApproved'], 1, 0)"
   ]
  },
  {
   "cell_type": "markdown",
   "metadata": {
    "hideCode": false,
    "hidePrompt": false
   },
   "source": [
    "# bin CodeDesc into Code groups"
   ]
  },
  {
   "cell_type": "code",
   "execution_count": 9,
   "metadata": {
    "hideCode": false,
    "hidePrompt": false
   },
   "outputs": [],
   "source": [
    "conditions = [\n",
    "    df['CodeDesc'].isin(['SURETY','APPEAL']),\n",
    "    df['CodeDesc'].isin(['CASH', 'CASH APPEAL']),\n",
    "    df['CodeDesc']=='PERSONAL',\n",
    "    df['CodeDesc']=='PERSONAL PTR'\n",
    "]\n",
    "choices = ['Surety', 'Cash', 'Personal', 'PTR']\n",
    "df['Code'] = np.select(conditions, choices, default=df['CodeDesc'])"
   ]
  },
  {
   "cell_type": "code",
   "execution_count": 10,
   "metadata": {
    "hideCode": false,
    "hidePrompt": false
   },
   "outputs": [
    {
     "data": {
      "text/plain": [
       "Surety                         31406\n",
       "PTR                             6044\n",
       "EARLY PRESENTMENT - PTRL         809\n",
       "Cash                             478\n",
       "Personal                          24\n",
       "SB7 - PTRL                        23\n",
       "UNSECURED BAIL BOND-SHERIFF        3\n",
       "Name: Code, dtype: int64"
      ]
     },
     "execution_count": 10,
     "metadata": {},
     "output_type": "execute_result"
    }
   ],
   "source": [
    "df['Code'].value_counts()"
   ]
  },
  {
   "cell_type": "code",
   "execution_count": 11,
   "metadata": {},
   "outputs": [],
   "source": [
    "df = df.loc[df['Code'].isin(['Surety', 'Cash', 'Personal', 'PTR'])]"
   ]
  },
  {
   "cell_type": "markdown",
   "metadata": {
    "hideCode": false,
    "hidePrompt": false
   },
   "source": [
    "# calculate bond amount summary statistics by Code and forfeit status"
   ]
  },
  {
   "cell_type": "code",
   "execution_count": 12,
   "metadata": {
    "hideCode": false,
    "hidePrompt": false
   },
   "outputs": [
    {
     "data": {
      "text/html": [
       "<div>\n",
       "<style scoped>\n",
       "    .dataframe tbody tr th:only-of-type {\n",
       "        vertical-align: middle;\n",
       "    }\n",
       "\n",
       "    .dataframe tbody tr th {\n",
       "        vertical-align: top;\n",
       "    }\n",
       "\n",
       "    .dataframe thead th {\n",
       "        text-align: right;\n",
       "    }\n",
       "</style>\n",
       "<table border=\"1\" class=\"dataframe\">\n",
       "  <thead>\n",
       "    <tr style=\"text-align: right;\">\n",
       "      <th></th>\n",
       "      <th></th>\n",
       "      <th>count</th>\n",
       "      <th>mean</th>\n",
       "      <th>std</th>\n",
       "      <th>min</th>\n",
       "      <th>25%</th>\n",
       "      <th>50%</th>\n",
       "      <th>75%</th>\n",
       "      <th>max</th>\n",
       "    </tr>\n",
       "    <tr>\n",
       "      <th>Code</th>\n",
       "      <th>forfeit</th>\n",
       "      <th></th>\n",
       "      <th></th>\n",
       "      <th></th>\n",
       "      <th></th>\n",
       "      <th></th>\n",
       "      <th></th>\n",
       "      <th></th>\n",
       "      <th></th>\n",
       "    </tr>\n",
       "  </thead>\n",
       "  <tbody>\n",
       "    <tr>\n",
       "      <th rowspan=\"2\" valign=\"top\">Cash</th>\n",
       "      <th>0</th>\n",
       "      <td>421.0</td>\n",
       "      <td>5445.011876</td>\n",
       "      <td>10388.144516</td>\n",
       "      <td>150.0</td>\n",
       "      <td>1000.0</td>\n",
       "      <td>2000.0</td>\n",
       "      <td>5000.0</td>\n",
       "      <td>75000.0</td>\n",
       "    </tr>\n",
       "    <tr>\n",
       "      <th>1</th>\n",
       "      <td>57.0</td>\n",
       "      <td>3140.350877</td>\n",
       "      <td>4305.057642</td>\n",
       "      <td>1000.0</td>\n",
       "      <td>1500.0</td>\n",
       "      <td>2000.0</td>\n",
       "      <td>2500.0</td>\n",
       "      <td>30000.0</td>\n",
       "    </tr>\n",
       "    <tr>\n",
       "      <th rowspan=\"2\" valign=\"top\">PTR</th>\n",
       "      <th>0</th>\n",
       "      <td>5321.0</td>\n",
       "      <td>4759.189062</td>\n",
       "      <td>7753.537244</td>\n",
       "      <td>45.0</td>\n",
       "      <td>1500.0</td>\n",
       "      <td>2000.0</td>\n",
       "      <td>5000.0</td>\n",
       "      <td>175000.0</td>\n",
       "    </tr>\n",
       "    <tr>\n",
       "      <th>1</th>\n",
       "      <td>723.0</td>\n",
       "      <td>4860.995851</td>\n",
       "      <td>15060.647483</td>\n",
       "      <td>500.0</td>\n",
       "      <td>1500.0</td>\n",
       "      <td>2000.0</td>\n",
       "      <td>5000.0</td>\n",
       "      <td>300000.0</td>\n",
       "    </tr>\n",
       "    <tr>\n",
       "      <th rowspan=\"2\" valign=\"top\">Personal</th>\n",
       "      <th>0</th>\n",
       "      <td>21.0</td>\n",
       "      <td>21357.142857</td>\n",
       "      <td>23383.831410</td>\n",
       "      <td>1500.0</td>\n",
       "      <td>5000.0</td>\n",
       "      <td>10000.0</td>\n",
       "      <td>40000.0</td>\n",
       "      <td>80000.0</td>\n",
       "    </tr>\n",
       "    <tr>\n",
       "      <th>1</th>\n",
       "      <td>3.0</td>\n",
       "      <td>3833.333333</td>\n",
       "      <td>2020.725942</td>\n",
       "      <td>1500.0</td>\n",
       "      <td>3250.0</td>\n",
       "      <td>5000.0</td>\n",
       "      <td>5000.0</td>\n",
       "      <td>5000.0</td>\n",
       "    </tr>\n",
       "    <tr>\n",
       "      <th rowspan=\"2\" valign=\"top\">Surety</th>\n",
       "      <th>0</th>\n",
       "      <td>27746.0</td>\n",
       "      <td>17709.983709</td>\n",
       "      <td>22812.887494</td>\n",
       "      <td>100.0</td>\n",
       "      <td>5000.0</td>\n",
       "      <td>10000.0</td>\n",
       "      <td>25000.0</td>\n",
       "      <td>500000.0</td>\n",
       "    </tr>\n",
       "    <tr>\n",
       "      <th>1</th>\n",
       "      <td>3660.0</td>\n",
       "      <td>15059.426230</td>\n",
       "      <td>19315.212458</td>\n",
       "      <td>500.0</td>\n",
       "      <td>3000.0</td>\n",
       "      <td>10000.0</td>\n",
       "      <td>20000.0</td>\n",
       "      <td>250000.0</td>\n",
       "    </tr>\n",
       "  </tbody>\n",
       "</table>\n",
       "</div>"
      ],
      "text/plain": [
       "                    count          mean           std     min     25%  \\\n",
       "Code     forfeit                                                        \n",
       "Cash     0          421.0   5445.011876  10388.144516   150.0  1000.0   \n",
       "         1           57.0   3140.350877   4305.057642  1000.0  1500.0   \n",
       "PTR      0         5321.0   4759.189062   7753.537244    45.0  1500.0   \n",
       "         1          723.0   4860.995851  15060.647483   500.0  1500.0   \n",
       "Personal 0           21.0  21357.142857  23383.831410  1500.0  5000.0   \n",
       "         1            3.0   3833.333333   2020.725942  1500.0  3250.0   \n",
       "Surety   0        27746.0  17709.983709  22812.887494   100.0  5000.0   \n",
       "         1         3660.0  15059.426230  19315.212458   500.0  3000.0   \n",
       "\n",
       "                      50%      75%       max  \n",
       "Code     forfeit                              \n",
       "Cash     0         2000.0   5000.0   75000.0  \n",
       "         1         2000.0   2500.0   30000.0  \n",
       "PTR      0         2000.0   5000.0  175000.0  \n",
       "         1         2000.0   5000.0  300000.0  \n",
       "Personal 0        10000.0  40000.0   80000.0  \n",
       "         1         5000.0   5000.0    5000.0  \n",
       "Surety   0        10000.0  25000.0  500000.0  \n",
       "         1        10000.0  20000.0  250000.0  "
      ]
     },
     "execution_count": 12,
     "metadata": {},
     "output_type": "execute_result"
    }
   ],
   "source": [
    "df.groupby(['Code','forfeit'])['BondAmtMade'].describe()"
   ]
  },
  {
   "cell_type": "code",
   "execution_count": 13,
   "metadata": {
    "hideCode": false,
    "hidePrompt": false
   },
   "outputs": [
    {
     "data": {
      "text/plain": [
       "<seaborn.axisgrid.FacetGrid at 0x1a16519ef0>"
      ]
     },
     "execution_count": 13,
     "metadata": {},
     "output_type": "execute_result"
    },
    {
     "data": {
      "image/png": "[encoded data removed]",
      "text/plain": [
       "<matplotlib.figure.Figure at 0x1a16a55908>"
      ]
     },
     "metadata": {},
     "output_type": "display_data"
    }
   ],
   "source": [
    "sns.catplot(x=\"Code\", y=\"BondAmtMade\", hue='forfeit', kind=\"box\", data=df)"
   ]
  },
  {
   "cell_type": "markdown",
   "metadata": {
    "hideCode": false,
    "hidePrompt": false
   },
   "source": [
    "# test whether bond amounts are significantly different"
   ]
  },
  {
   "cell_type": "code",
   "execution_count": 84,
   "metadata": {
    "hideCode": false,
    "hidePrompt": false
   },
   "outputs": [
    {
     "data": {
      "text/html": [
       "<div>\n",
       "<style scoped>\n",
       "    .dataframe tbody tr th:only-of-type {\n",
       "        vertical-align: middle;\n",
       "    }\n",
       "\n",
       "    .dataframe tbody tr th {\n",
       "        vertical-align: top;\n",
       "    }\n",
       "\n",
       "    .dataframe thead th {\n",
       "        text-align: right;\n",
       "    }\n",
       "</style>\n",
       "<table border=\"1\" class=\"dataframe\">\n",
       "  <thead>\n",
       "    <tr style=\"text-align: right;\">\n",
       "      <th></th>\n",
       "      <th>t-stat</th>\n",
       "      <th>p-value</th>\n",
       "    </tr>\n",
       "    <tr>\n",
       "      <th>code</th>\n",
       "      <th></th>\n",
       "      <th></th>\n",
       "    </tr>\n",
       "  </thead>\n",
       "  <tbody>\n",
       "    <tr>\n",
       "      <th>Surety</th>\n",
       "      <td>-7.630</td>\n",
       "      <td>0.000</td>\n",
       "    </tr>\n",
       "    <tr>\n",
       "      <th>Cash</th>\n",
       "      <td>-3.022</td>\n",
       "      <td>0.003</td>\n",
       "    </tr>\n",
       "    <tr>\n",
       "      <th>Personal</th>\n",
       "      <td>-3.348</td>\n",
       "      <td>0.003</td>\n",
       "    </tr>\n",
       "    <tr>\n",
       "      <th>PTR</th>\n",
       "      <td>0.179</td>\n",
       "      <td>0.858</td>\n",
       "    </tr>\n",
       "  </tbody>\n",
       "</table>\n",
       "</div>"
      ],
      "text/plain": [
       "          t-stat  p-value\n",
       "code                     \n",
       "Surety    -7.630    0.000\n",
       "Cash      -3.022    0.003\n",
       "Personal  -3.348    0.003\n",
       "PTR        0.179    0.858"
      ]
     },
     "execution_count": 84,
     "metadata": {},
     "output_type": "execute_result"
    }
   ],
   "source": [
    "df_list = []\n",
    "for i in df['Code'].unique().tolist():\n",
    "    bond_forf = df.loc[(df['Code']==i) & (df['forfeit']==1)]['BondAmtMade']\n",
    "    bond_no_forf = df.loc[(df['Code']==i) & (df['forfeit']==0)]['BondAmtMade']\n",
    "    t, p = ttest_ind(bond_forf, bond_no_forf, equal_var=False)\n",
    "    tr = pd.DataFrame(data=[i], columns=['code'])\n",
    "    tr['t-stat']=round(t,3)\n",
    "    tr['p-value']=round(p,3)\n",
    "    df_list.append(tr)\n",
    "tr = pd.concat(df_list)\n",
    "tr = tr.set_index('code')\n",
    "tr"
   ]
  }
 ],
 "metadata": {
  "hide_code_all_hidden": false,
  "kernelspec": {
   "display_name": "Python 3",
   "language": "python",
   "name": "python3"
  },
  "language_info": {
   "codemirror_mode": {
    "name": "ipython",
    "version": 3
   },
   "file_extension": ".py",
   "mimetype": "text/x-python",
   "name": "python",
   "nbconvert_exporter": "python",
   "pygments_lexer": "ipython3",
   "version": "3.6.4"
  }
 },
 "nbformat": 4,
 "nbformat_minor": 2
}
