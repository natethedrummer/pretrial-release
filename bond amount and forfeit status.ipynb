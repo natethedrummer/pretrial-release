{
 "cells": [
  {
   "cell_type": "markdown",
   "metadata": {
    "hideCode": false,
    "hidePrompt": false
   },
   "source": [
    "# import packages"
   ]
  },
  {
   "cell_type": "code",
   "execution_count": 1,
   "metadata": {},
   "outputs": [],
   "source": [
    "%matplotlib inline \n",
    "import os\n",
    "import numpy as np\n",
    "import pandas as pd\n",
    "import matplotlib.pyplot as plt \n",
    "import seaborn as sns\n",
    "from scipy.stats import ttest_ind"
   ]
  },
  {
   "cell_type": "markdown",
   "metadata": {
    "hideCode": false,
    "hidePrompt": false
   },
   "source": [
    "# import bond data provided by Harris County"
   ]
  },
  {
   "cell_type": "code",
   "execution_count": 2,
   "metadata": {},
   "outputs": [],
   "source": [
    "path = './fworrrevisedwheeler'\n",
    "\n",
    "file_list = ['/DATA - Wheeler (2017 approvals - felony).xlsx',\n",
    "'/DATA - Wheeler (2018 approvals - felony).xlsx']\n",
    "df_list = []\n",
    "for file in file_list: \n",
    "    for i in range(5):\n",
    "        df_iter = pd.read_excel(path+file, sheet_name=i)\n",
    "        df_list.append(df_iter)\n",
    "    approvals = pd.concat(df_list)\n",
    "    approvals['CaseNumber'] = approvals['CaseNumber'].astype(str)\n",
    "\n",
    "file_list = ['/DATA - Wheeler (2017 forfeitures - felony).xlsx',\n",
    "'/DATA - Wheeler (2018 forfeitures - felony).xlsx']\n",
    "df_list = []\n",
    "for file in file_list: \n",
    "    for i in range(5):\n",
    "        df_iter = pd.read_excel(path+file, sheet_name=i)\n",
    "        df_list.append(df_iter)\n",
    "        forfeitures = pd.concat(df_list)\n",
    "    forfeitures['CaseNumber'] = forfeitures['CaseNumber'].str[:-1]\n",
    "    forfeitures['CaseNumber'] = forfeitures['CaseNumber'] + '0'\n",
    "    forfeitures['ForfDate'] = forfeitures['ForfDate'].astype(int)\n",
    "    forfeitures['ForfDate'] = pd.to_datetime(forfeitures['ForfDate'], format='%Y%m%d')\n"
   ]
  },
  {
   "cell_type": "markdown",
   "metadata": {
    "hideCode": false,
    "hidePrompt": false
   },
   "source": [
    "# determine who forfeitted"
   ]
  },
  {
   "cell_type": "code",
   "execution_count": 3,
   "metadata": {
    "hideCode": false,
    "hidePrompt": false
   },
   "outputs": [],
   "source": [
    "df = approvals.merge(forfeitures, on='CaseNumber', how='left', suffixes=('_app', '_for'))\n",
    "\n",
    "df = df.dropna(subset=['BondAmtMade'])\n",
    "\n",
    "df['forfeit'] = np.where(df['ForfDate'] > df['DateApproved'], 1, 0)"
   ]
  },
  {
   "cell_type": "markdown",
   "metadata": {
    "hideCode": false,
    "hidePrompt": false
   },
   "source": [
    "# bin CodeDesc into Code groups"
   ]
  },
  {
   "cell_type": "code",
   "execution_count": 4,
   "metadata": {
    "hideCode": false,
    "hidePrompt": false
   },
   "outputs": [],
   "source": [
    "conditions = [\n",
    "    df['CodeDesc'].isin(['SURETY','APPEAL']),\n",
    "    df['CodeDesc'].isin(['CASH', 'CASH APPEAL']),\n",
    "    df['CodeDesc']=='PERSONAL',\n",
    "    df['CodeDesc']=='PERSONAL PTR'\n",
    "]\n",
    "choices = ['Surety', 'Cash', 'Personal', 'PTR']\n",
    "df['Code'] = np.select(conditions, choices, default=df['CodeDesc'])"
   ]
  },
  {
   "cell_type": "code",
   "execution_count": 5,
   "metadata": {
    "hideCode": false,
    "hidePrompt": false
   },
   "outputs": [
    {
     "data": {
      "text/plain": [
       "Surety                         31406\n",
       "PTR                             6044\n",
       "EARLY PRESENTMENT - PTRL         809\n",
       "Cash                             478\n",
       "Personal                          24\n",
       "SB7 - PTRL                        23\n",
       "UNSECURED BAIL BOND-SHERIFF        3\n",
       "Name: Code, dtype: int64"
      ]
     },
     "execution_count": 5,
     "metadata": {},
     "output_type": "execute_result"
    }
   ],
   "source": [
    "df['Code'].value_counts()"
   ]
  },
  {
   "cell_type": "code",
   "execution_count": 6,
   "metadata": {},
   "outputs": [],
   "source": [
    "df = df.loc[df['Code'].isin(['Surety', 'Cash', 'Personal', 'PTR'])]"
   ]
  },
  {
   "cell_type": "markdown",
   "metadata": {
    "hideCode": false,
    "hidePrompt": false
   },
   "source": [
    "# 2017 only"
   ]
  },
  {
   "cell_type": "code",
   "execution_count": 12,
   "metadata": {},
   "outputs": [],
   "source": [
    "df = df.loc[df['DateApproved'].dt.year==2017]"
   ]
  },
  {
   "cell_type": "markdown",
   "metadata": {
    "hideCode": false,
    "hidePrompt": false
   },
   "source": [
    "# calculate bond amount summary statistics by Code and forfeit status"
   ]
  },
  {
   "cell_type": "code",
   "execution_count": 15,
   "metadata": {
    "hideCode": false,
    "hidePrompt": false
   },
   "outputs": [
    {
     "data": {
      "text/html": [
       "<div>\n",
       "<style scoped>\n",
       "    .dataframe tbody tr th:only-of-type {\n",
       "        vertical-align: middle;\n",
       "    }\n",
       "\n",
       "    .dataframe tbody tr th {\n",
       "        vertical-align: top;\n",
       "    }\n",
       "\n",
       "    .dataframe thead th {\n",
       "        text-align: right;\n",
       "    }\n",
       "</style>\n",
       "<table border=\"1\" class=\"dataframe\">\n",
       "  <thead>\n",
       "    <tr style=\"text-align: right;\">\n",
       "      <th></th>\n",
       "      <th></th>\n",
       "      <th>count</th>\n",
       "      <th>mean</th>\n",
       "      <th>std</th>\n",
       "      <th>min</th>\n",
       "      <th>25%</th>\n",
       "      <th>50%</th>\n",
       "      <th>75%</th>\n",
       "      <th>max</th>\n",
       "    </tr>\n",
       "    <tr>\n",
       "      <th>Code</th>\n",
       "      <th>forfeit</th>\n",
       "      <th></th>\n",
       "      <th></th>\n",
       "      <th></th>\n",
       "      <th></th>\n",
       "      <th></th>\n",
       "      <th></th>\n",
       "      <th></th>\n",
       "      <th></th>\n",
       "    </tr>\n",
       "  </thead>\n",
       "  <tbody>\n",
       "    <tr>\n",
       "      <th rowspan=\"2\" valign=\"top\">Cash</th>\n",
       "      <th>0</th>\n",
       "      <td>231.0</td>\n",
       "      <td>6247.402597</td>\n",
       "      <td>11042.326362</td>\n",
       "      <td>150.0</td>\n",
       "      <td>1500.0</td>\n",
       "      <td>2000.0</td>\n",
       "      <td>5000.0</td>\n",
       "      <td>70000.0</td>\n",
       "    </tr>\n",
       "    <tr>\n",
       "      <th>1</th>\n",
       "      <td>27.0</td>\n",
       "      <td>3277.777778</td>\n",
       "      <td>5613.057122</td>\n",
       "      <td>1000.0</td>\n",
       "      <td>1750.0</td>\n",
       "      <td>2000.0</td>\n",
       "      <td>2000.0</td>\n",
       "      <td>30000.0</td>\n",
       "    </tr>\n",
       "    <tr>\n",
       "      <th rowspan=\"2\" valign=\"top\">PTR</th>\n",
       "      <th>0</th>\n",
       "      <td>2998.0</td>\n",
       "      <td>5139.926618</td>\n",
       "      <td>8230.578717</td>\n",
       "      <td>500.0</td>\n",
       "      <td>1500.0</td>\n",
       "      <td>2000.0</td>\n",
       "      <td>5000.0</td>\n",
       "      <td>150000.0</td>\n",
       "    </tr>\n",
       "    <tr>\n",
       "      <th>1</th>\n",
       "      <td>455.0</td>\n",
       "      <td>5576.923077</td>\n",
       "      <td>17948.857086</td>\n",
       "      <td>500.0</td>\n",
       "      <td>1500.0</td>\n",
       "      <td>2000.0</td>\n",
       "      <td>5000.0</td>\n",
       "      <td>300000.0</td>\n",
       "    </tr>\n",
       "    <tr>\n",
       "      <th rowspan=\"2\" valign=\"top\">Personal</th>\n",
       "      <th>0</th>\n",
       "      <td>6.0</td>\n",
       "      <td>32333.333333</td>\n",
       "      <td>29104.409746</td>\n",
       "      <td>2000.0</td>\n",
       "      <td>9000.0</td>\n",
       "      <td>35000.0</td>\n",
       "      <td>40000.0</td>\n",
       "      <td>80000.0</td>\n",
       "    </tr>\n",
       "    <tr>\n",
       "      <th>1</th>\n",
       "      <td>2.0</td>\n",
       "      <td>5000.000000</td>\n",
       "      <td>0.000000</td>\n",
       "      <td>5000.0</td>\n",
       "      <td>5000.0</td>\n",
       "      <td>5000.0</td>\n",
       "      <td>5000.0</td>\n",
       "      <td>5000.0</td>\n",
       "    </tr>\n",
       "    <tr>\n",
       "      <th rowspan=\"2\" valign=\"top\">Surety</th>\n",
       "      <th>0</th>\n",
       "      <td>16677.0</td>\n",
       "      <td>17533.624153</td>\n",
       "      <td>23672.094630</td>\n",
       "      <td>500.0</td>\n",
       "      <td>5000.0</td>\n",
       "      <td>10000.0</td>\n",
       "      <td>25000.0</td>\n",
       "      <td>500000.0</td>\n",
       "    </tr>\n",
       "    <tr>\n",
       "      <th>1</th>\n",
       "      <td>2717.0</td>\n",
       "      <td>15523.187339</td>\n",
       "      <td>19260.787189</td>\n",
       "      <td>500.0</td>\n",
       "      <td>5000.0</td>\n",
       "      <td>10000.0</td>\n",
       "      <td>20000.0</td>\n",
       "      <td>250000.0</td>\n",
       "    </tr>\n",
       "  </tbody>\n",
       "</table>\n",
       "</div>"
      ],
      "text/plain": [
       "                    count          mean           std     min     25%  \\\n",
       "Code     forfeit                                                        \n",
       "Cash     0          231.0   6247.402597  11042.326362   150.0  1500.0   \n",
       "         1           27.0   3277.777778   5613.057122  1000.0  1750.0   \n",
       "PTR      0         2998.0   5139.926618   8230.578717   500.0  1500.0   \n",
       "         1          455.0   5576.923077  17948.857086   500.0  1500.0   \n",
       "Personal 0            6.0  32333.333333  29104.409746  2000.0  9000.0   \n",
       "         1            2.0   5000.000000      0.000000  5000.0  5000.0   \n",
       "Surety   0        16677.0  17533.624153  23672.094630   500.0  5000.0   \n",
       "         1         2717.0  15523.187339  19260.787189   500.0  5000.0   \n",
       "\n",
       "                      50%      75%       max  \n",
       "Code     forfeit                              \n",
       "Cash     0         2000.0   5000.0   70000.0  \n",
       "         1         2000.0   2000.0   30000.0  \n",
       "PTR      0         2000.0   5000.0  150000.0  \n",
       "         1         2000.0   5000.0  300000.0  \n",
       "Personal 0        35000.0  40000.0   80000.0  \n",
       "         1         5000.0   5000.0    5000.0  \n",
       "Surety   0        10000.0  25000.0  500000.0  \n",
       "         1        10000.0  20000.0  250000.0  "
      ]
     },
     "execution_count": 15,
     "metadata": {},
     "output_type": "execute_result"
    }
   ],
   "source": [
    "df.groupby(['Code','forfeit'])['BondAmtMade'].describe()"
   ]
  },
  {
   "cell_type": "code",
   "execution_count": 80,
   "metadata": {},
   "outputs": [],
   "source": [
    "df_mean = df.groupby(['Code', 'forfeit']).agg({'BondAmtMade': 'median'}).reset_index()"
   ]
  },
  {
   "cell_type": "code",
   "execution_count": 82,
   "metadata": {},
   "outputs": [],
   "source": [
    "df_mean = df_mean.pivot_table(index='Code', columns='forfeit', values='BondAmtMade')"
   ]
  },
  {
   "cell_type": "code",
   "execution_count": 83,
   "metadata": {},
   "outputs": [],
   "source": [
    "df_mean.columns=['No Forfeit', 'Forfeit']"
   ]
  },
  {
   "cell_type": "markdown",
   "metadata": {
    "hideCode": false,
    "hidePrompt": false
   },
   "source": [
    "# test whether bond amounts are significantly different"
   ]
  },
  {
   "cell_type": "code",
   "execution_count": 53,
   "metadata": {
    "hideCode": false,
    "hidePrompt": false
   },
   "outputs": [
    {
     "data": {
      "text/html": [
       "<div>\n",
       "<style scoped>\n",
       "    .dataframe tbody tr th:only-of-type {\n",
       "        vertical-align: middle;\n",
       "    }\n",
       "\n",
       "    .dataframe tbody tr th {\n",
       "        vertical-align: top;\n",
       "    }\n",
       "\n",
       "    .dataframe thead th {\n",
       "        text-align: right;\n",
       "    }\n",
       "</style>\n",
       "<table border=\"1\" class=\"dataframe\">\n",
       "  <thead>\n",
       "    <tr style=\"text-align: right;\">\n",
       "      <th></th>\n",
       "      <th>t-stat</th>\n",
       "      <th>p-value</th>\n",
       "    </tr>\n",
       "    <tr>\n",
       "      <th>code</th>\n",
       "      <th></th>\n",
       "      <th></th>\n",
       "    </tr>\n",
       "  </thead>\n",
       "  <tbody>\n",
       "    <tr>\n",
       "      <th>Surety</th>\n",
       "      <td>-4.87</td>\n",
       "      <td>0.00</td>\n",
       "    </tr>\n",
       "    <tr>\n",
       "      <th>Cash</th>\n",
       "      <td>-2.28</td>\n",
       "      <td>0.03</td>\n",
       "    </tr>\n",
       "    <tr>\n",
       "      <th>Personal</th>\n",
       "      <td>-2.30</td>\n",
       "      <td>0.07</td>\n",
       "    </tr>\n",
       "    <tr>\n",
       "      <th>PTR</th>\n",
       "      <td>0.51</td>\n",
       "      <td>0.61</td>\n",
       "    </tr>\n",
       "  </tbody>\n",
       "</table>\n",
       "</div>"
      ],
      "text/plain": [
       "          t-stat  p-value\n",
       "code                     \n",
       "Surety     -4.87     0.00\n",
       "Cash       -2.28     0.03\n",
       "Personal   -2.30     0.07\n",
       "PTR         0.51     0.61"
      ]
     },
     "execution_count": 53,
     "metadata": {},
     "output_type": "execute_result"
    }
   ],
   "source": [
    "df_list = []\n",
    "for i in df['Code'].unique().tolist():\n",
    "    bond_forf = df.loc[(df['Code']==i) & (df['forfeit']==1)]['BondAmtMade']\n",
    "    bond_no_forf = df.loc[(df['Code']==i) & (df['forfeit']==0)]['BondAmtMade']\n",
    "    t, p = ttest_ind(bond_forf, bond_no_forf, equal_var=False)\n",
    "    tr = pd.DataFrame(data=[i], columns=['code'])\n",
    "    tr['t-stat']=round(t,2)\n",
    "    tr['p-value']=round(p,2)\n",
    "    df_list.append(tr)\n",
    "tr = pd.concat(df_list)\n",
    "tr = tr.set_index('code')\n",
    "tr"
   ]
  },
  {
   "cell_type": "code",
   "execution_count": 84,
   "metadata": {},
   "outputs": [],
   "source": [
    "df_out = df_mean.merge(tr, left_index=True, right_index=True)"
   ]
  },
  {
   "cell_type": "code",
   "execution_count": 85,
   "metadata": {},
   "outputs": [],
   "source": [
    "df_out = df_out.merge(df.groupby('Code').agg({'CaseNumber': 'count'}), left_index=True, right_index=True)\n",
    "\n",
    "df_out = df_out.rename(columns={'CaseNumber': 'N Cases'})"
   ]
  },
  {
   "cell_type": "code",
   "execution_count": 90,
   "metadata": {},
   "outputs": [],
   "source": [
    "df_out = df_out.merge(df.groupby('Code').agg({'forfeit': 'sum'}), left_index=True, right_index=True)"
   ]
  },
  {
   "cell_type": "code",
   "execution_count": 91,
   "metadata": {},
   "outputs": [],
   "source": [
    "df_out = df_out.rename(columns={'forfeit': 'N Forfeitures'})"
   ]
  },
  {
   "cell_type": "code",
   "execution_count": 92,
   "metadata": {},
   "outputs": [
    {
     "data": {
      "text/html": [
       "<div>\n",
       "<style scoped>\n",
       "    .dataframe tbody tr th:only-of-type {\n",
       "        vertical-align: middle;\n",
       "    }\n",
       "\n",
       "    .dataframe tbody tr th {\n",
       "        vertical-align: top;\n",
       "    }\n",
       "\n",
       "    .dataframe thead th {\n",
       "        text-align: right;\n",
       "    }\n",
       "</style>\n",
       "<table border=\"1\" class=\"dataframe\">\n",
       "  <thead>\n",
       "    <tr style=\"text-align: right;\">\n",
       "      <th></th>\n",
       "      <th>No Forfeit</th>\n",
       "      <th>Forfeit</th>\n",
       "      <th>t-stat</th>\n",
       "      <th>p-value</th>\n",
       "      <th>N Cases</th>\n",
       "      <th>N Forfeitures</th>\n",
       "    </tr>\n",
       "  </thead>\n",
       "  <tbody>\n",
       "    <tr>\n",
       "      <th>Cash</th>\n",
       "      <td>2000.0</td>\n",
       "      <td>2000.0</td>\n",
       "      <td>-2.28</td>\n",
       "      <td>0.03</td>\n",
       "      <td>258</td>\n",
       "      <td>27</td>\n",
       "    </tr>\n",
       "    <tr>\n",
       "      <th>PTR</th>\n",
       "      <td>2000.0</td>\n",
       "      <td>2000.0</td>\n",
       "      <td>0.51</td>\n",
       "      <td>0.61</td>\n",
       "      <td>3453</td>\n",
       "      <td>455</td>\n",
       "    </tr>\n",
       "    <tr>\n",
       "      <th>Personal</th>\n",
       "      <td>35000.0</td>\n",
       "      <td>5000.0</td>\n",
       "      <td>-2.30</td>\n",
       "      <td>0.07</td>\n",
       "      <td>8</td>\n",
       "      <td>2</td>\n",
       "    </tr>\n",
       "    <tr>\n",
       "      <th>Surety</th>\n",
       "      <td>10000.0</td>\n",
       "      <td>10000.0</td>\n",
       "      <td>-4.87</td>\n",
       "      <td>0.00</td>\n",
       "      <td>19394</td>\n",
       "      <td>2717</td>\n",
       "    </tr>\n",
       "  </tbody>\n",
       "</table>\n",
       "</div>"
      ],
      "text/plain": [
       "          No Forfeit  Forfeit  t-stat  p-value  N Cases  N Forfeitures\n",
       "Cash          2000.0   2000.0   -2.28     0.03      258             27\n",
       "PTR           2000.0   2000.0    0.51     0.61     3453            455\n",
       "Personal     35000.0   5000.0   -2.30     0.07        8              2\n",
       "Surety       10000.0  10000.0   -4.87     0.00    19394           2717"
      ]
     },
     "execution_count": 92,
     "metadata": {},
     "output_type": "execute_result"
    }
   ],
   "source": [
    "df_out"
   ]
  },
  {
   "cell_type": "code",
   "execution_count": 88,
   "metadata": {},
   "outputs": [],
   "source": [
    "df_out.to_excel('median_bond_forfeit.xlsx')"
   ]
  },
  {
   "cell_type": "code",
   "execution_count": null,
   "metadata": {},
   "outputs": [],
   "source": []
  }
 ],
 "metadata": {
  "hide_code_all_hidden": false,
  "kernelspec": {
   "display_name": "Python 3",
   "language": "python",
   "name": "python3"
  },
  "language_info": {
   "codemirror_mode": {
    "name": "ipython",
    "version": 3
   },
   "file_extension": ".py",
   "mimetype": "text/x-python",
   "name": "python",
   "nbconvert_exporter": "python",
   "pygments_lexer": "ipython3",
   "version": "3.6.4"
  }
 },
 "nbformat": 4,
 "nbformat_minor": 2
}
