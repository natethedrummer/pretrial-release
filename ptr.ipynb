{
 "cells": [
  {
   "cell_type": "markdown",
   "metadata": {
    "slideshow": {
     "slide_type": "slide"
    }
   },
   "source": [
    "# <center>Identifying Factors that Influence Bond Amount and Pre-Trial Release</center>  \n",
    "## <center>A statistical analysis of Harris County felony defendant records</center>"
   ]
  },
  {
   "cell_type": "code",
   "execution_count": 1,
   "metadata": {
    "code_folding": [],
    "hideCode": true,
    "slideshow": {
     "slide_type": "skip"
    }
   },
   "outputs": [],
   "source": [
    "# import packages\n",
    "import numpy as np\n",
    "import pandas as pd\n",
    "\n",
    "from scipy import stats\n",
    "stats.chisqprob = lambda chisq, df: stats.chi2.sf(chisq, df)\n",
    "import statsmodels.formula.api as smf\n",
    "\n",
    "%matplotlib inline"
   ]
  },
  {
   "cell_type": "code",
   "execution_count": 2,
   "metadata": {
    "code_folding": [],
    "hideCode": true,
    "hideOutput": true,
    "slideshow": {
     "slide_type": "skip"
    }
   },
   "outputs": [
    {
     "name": "stderr",
     "output_type": "stream",
     "text": [
      "/anaconda/envs/bail/lib/python3.6/site-packages/ipykernel_launcher.py:113: DeprecationWarning: \n",
      ".ix is deprecated. Please use\n",
      ".loc for label based indexing or\n",
      ".iloc for positional indexing\n",
      "\n",
      "See the documentation here:\n",
      "http://pandas.pydata.org/pandas-docs/stable/indexing.html#ix-indexer-is-deprecated\n"
     ]
    }
   ],
   "source": [
    "# read felony records dataset\n",
    "df = pd.read_csv('https://raw.github.com/natethedrummer/pretrial-release/master/felony_offenses.csv')\n",
    "\n",
    "# include disposed cases only\n",
    "df = df[df['CASE DISPOSED STATUS'] == 'DISPOSED']\n",
    "\n",
    "# made bail\n",
    "df.rename(columns={'access': 'Made Bail'}, inplace=True)\n",
    "\n",
    "# bin offense\n",
    "series_offense = pd.Series({'ARSON': 'ARSON',\n",
    "                          'SALE DRUG': 'DRUG',\n",
    "                          'POSS DRUG': 'DRUG',\n",
    "                          'FEL DWI': 'DWI',\n",
    "                          'KIDNAPPING': 'KIDNAPPING',\n",
    "                          'CAP MURDER': 'MURDER',\n",
    "                          'CAPITAL MURDER': 'MURDER',\n",
    "                          'ASLT-MURDR': 'MURDER',\n",
    "                          'MURD/MANSL': 'MURDER',\n",
    "                          'MURDER': 'MURDER',\n",
    "                          'ROBBERY': 'ROBBERY',\n",
    "                          'THEFT': 'ROBBERY',\n",
    "                          'BURGLARY': 'ROBBERY',\n",
    "                          'burglary': 'ROBBERY',\n",
    "                          'AUTO THEFT': 'ROBBERY',\n",
    "                          'RAPE': 'SEX ABUSE',\n",
    "                          'SEX ABUSE': 'SEX ABUSE',\n",
    "                          'OTHER FEL': 'OTHER',\n",
    "                          'OTHERMISD': 'OTHER'})\n",
    "\n",
    "df['offense_bin'] = df['Offense'].map(series_offense)\n",
    "\n",
    "# binary offense variables\n",
    "offense_list = df['offense_bin'].unique().tolist()\n",
    "for offense in offense_list:\n",
    "    series = pd.Series({offense: 1})\n",
    "    df[offense] = df['offense_bin'].map(series)\n",
    "    df[offense].fillna(value=0, inplace=True)\n",
    "\n",
    "# Felony Class Offense\n",
    "df['FC'] = np.where(df['OffenseClass']=='FC', 1, 0)    \n",
    "df['F1'] = np.where(df['OffenseClass']=='F1', 1, 0)    \n",
    "df['F2'] = np.where(df['OffenseClass']=='F2', 1, 0)    \n",
    "df['F3'] = np.where(df['OffenseClass']=='F3', 1, 0)    \n",
    "df['FS'] = np.where(df['OffenseClass']=='FS', 1, 0)    \n",
    "\n",
    "# priors\n",
    "df.rename(columns={'Misd priors': 'Prior Misdemeanor Count'}, inplace=True)\n",
    "df['Prior Misdemeanor'] = np.where(df['Prior Misdemeanor Count']>=1, 1, 0)\n",
    "df.rename(columns={'felony priors': 'Prior Felony Count'}, inplace=True)\n",
    "df['Prior Felony'] = np.where(df['Prior Felony Count']>=1, 1, 0)\n",
    "\n",
    "# dwi\n",
    "series = pd.Series({'DWI': 1})\n",
    "df['DWI'] = df['offense_bin'].map(series)\n",
    "df['DWI'].fillna(value=0, inplace=True)\n",
    "\n",
    "# family offense\n",
    "df['Offense Against Family'] = df['OffenseDescription'].str.contains('fam|chil|kid', case=False, na=False)\n",
    "df['Offense Against Family'] = df['Offense Against Family'].astype(int)\n",
    "\n",
    "# race\n",
    "series = pd.Series({'BLACK': 1})\n",
    "df['Black'] = df['race'].map(series)\n",
    "df['Black'].fillna(value=0, inplace=True)\n",
    "series = pd.Series({'HISPANIC': 1})\n",
    "df['Hispanic'] = df['race'].map(series)\n",
    "df['Hispanic'].fillna(value=0, inplace=True)\n",
    "series = pd.Series({'WHITE': 1})\n",
    "df['White'] = df['race'].map(series)\n",
    "df['White'].fillna(value=0, inplace=True)\n",
    "\n",
    "# sex\n",
    "series = pd.Series({'F': 1})\n",
    "df['Female'] = df['gender'].map(series)\n",
    "df['Female'].fillna(value=0, inplace=True)\n",
    "series = pd.Series({'M': 1})\n",
    "df['Male'] = df['gender'].map(series)\n",
    "df['Male'].fillna(value=0, inplace=True)\n",
    "\n",
    "# bond amount\n",
    "df[~(df['BOND $'] == 'NO BOND')]    \n",
    "df['Bond Amount'] = (df[~(df['BOND $'] == 'NO BOND')])['BOND $'].astype(float)\n",
    "df = df[np.isfinite(df['Bond Amount'])]\n",
    "df = df[df['Bond Amount'] > 0]\n",
    "\n",
    "# log of bond amount\n",
    "df['Bond_Amount_ln'] = np.log(df['Bond Amount'])\n",
    "\n",
    "# counsel type\n",
    "df['Hired Attorney'] = np.where(df['counsel_type']=='Hired Attorney', 1, 0)    \n",
    "df['Appointed Attorney'] = np.where(df['counsel_type']=='Appointed Attorney', 1, 0)    \n",
    "df['Public Defender'] = np.where(df['counsel_type']=='Public Defender', 1, 0)    \n",
    "df['Unknown Counsel'] = np.where(df['counsel_type']=='Other/Unknown', 1, 0)    \n",
    "\n",
    "# bond type\n",
    "df = df.rename(columns={'bail type made simple': 'Bail Type'})\n",
    "df['PTR'] = np.where(df['Bail Type']=='PTR', 1, 0)    \n",
    "df['Surety'] = np.where(df['Bail Type']=='SURETY', 1, 0)    \n",
    "df['Cash'] = np.where(df['Bail Type']=='CASH', 1, 0)    \n",
    "df['None'] = np.where(df['Bail Type']=='NONE', 1, 0)  \n",
    "\n",
    "# age\n",
    "df = df[df['age'] != \"#VALUE!\"]\n",
    "df['Age'] = df['age'].astype(float)\n",
    "\n",
    "# descriptive stats\n",
    "df_desc = df[['Made Bail', 'Surety', 'Cash', 'PTR', 'None', 'Bond Amount',\n",
    "              'Hired Attorney', 'Appointed Attorney', 'Public Defender', 'Unknown Counsel',\n",
    "             'Black', 'Hispanic', 'White', 'Male', 'Female',\n",
    "             'F1', 'F2', 'F3', 'FC', 'FS',\n",
    "             'Prior Felony', 'Prior Felony Count', 'Prior Misdemeanor', 'Prior Misdemeanor Count']].describe()\n",
    "df_desc = df_desc.ix[['count','mean']]\n",
    "df_desc = df_desc.transpose()\n",
    "df_desc.index.name = 'Variable'\n",
    "df_desc.rename(columns={'count': 'Sample Size',\n",
    "    'mean': 'Mean Value'\n",
    "    }, inplace=True)\n",
    "df_desc = df_desc.sort_index()\n",
    "df_desc['Sample Size'] = df_desc['Sample Size'].astype(int).apply(lambda x: '{:,}'.format(x))\n",
    "df_desc['Mean Value'] = (df_desc['Mean Value'] * 100).astype(int).astype(str) + '%'"
   ]
  },
  {
   "cell_type": "markdown",
   "metadata": {
    "slideshow": {
     "slide_type": "subslide"
    }
   },
   "source": [
    "# Describe Defendants: Made Bail  \n",
    "Only 40% of defendants made bail and were released before trial."
   ]
  },
  {
   "cell_type": "code",
   "execution_count": 3,
   "metadata": {
    "hideCode": true,
    "slideshow": {
     "slide_type": "fragment"
    }
   },
   "outputs": [
    {
     "data": {
      "text/html": [
       "<div>\n",
       "<style scoped>\n",
       "    .dataframe tbody tr th:only-of-type {\n",
       "        vertical-align: middle;\n",
       "    }\n",
       "\n",
       "    .dataframe tbody tr th {\n",
       "        vertical-align: top;\n",
       "    }\n",
       "\n",
       "    .dataframe thead th {\n",
       "        text-align: right;\n",
       "    }\n",
       "</style>\n",
       "<table border=\"1\" class=\"dataframe\">\n",
       "  <thead>\n",
       "    <tr style=\"text-align: right;\">\n",
       "      <th></th>\n",
       "      <th>Sample Size</th>\n",
       "      <th>Mean Value</th>\n",
       "    </tr>\n",
       "    <tr>\n",
       "      <th>Variable</th>\n",
       "      <th></th>\n",
       "      <th></th>\n",
       "    </tr>\n",
       "  </thead>\n",
       "  <tbody>\n",
       "    <tr>\n",
       "      <th>Made Bail</th>\n",
       "      <td>2,490</td>\n",
       "      <td>42%</td>\n",
       "    </tr>\n",
       "  </tbody>\n",
       "</table>\n",
       "</div>"
      ],
      "text/plain": [
       "          Sample Size Mean Value\n",
       "Variable                        \n",
       "Made Bail       2,490        42%"
      ]
     },
     "execution_count": 3,
     "metadata": {},
     "output_type": "execute_result"
    }
   ],
   "source": [
    "df_desc.loc[['Made Bail']]"
   ]
  },
  {
   "cell_type": "markdown",
   "metadata": {
    "hideCode": false,
    "slideshow": {
     "slide_type": "subslide"
    }
   },
   "source": [
    "# Describe Defendants: Bond Type  \n",
    "Nearly all defendants who made bail used a surety bond to get out of jail."
   ]
  },
  {
   "cell_type": "code",
   "execution_count": 6,
   "metadata": {
    "hideCode": true,
    "slideshow": {
     "slide_type": "fragment"
    }
   },
   "outputs": [
    {
     "data": {
      "text/html": [
       "<div>\n",
       "<style scoped>\n",
       "    .dataframe tbody tr th:only-of-type {\n",
       "        vertical-align: middle;\n",
       "    }\n",
       "\n",
       "    .dataframe tbody tr th {\n",
       "        vertical-align: top;\n",
       "    }\n",
       "\n",
       "    .dataframe thead th {\n",
       "        text-align: right;\n",
       "    }\n",
       "</style>\n",
       "<table border=\"1\" class=\"dataframe\">\n",
       "  <thead>\n",
       "    <tr style=\"text-align: right;\">\n",
       "      <th></th>\n",
       "      <th>Sample Size</th>\n",
       "      <th>Mean Value</th>\n",
       "    </tr>\n",
       "    <tr>\n",
       "      <th>Variable</th>\n",
       "      <th></th>\n",
       "      <th></th>\n",
       "    </tr>\n",
       "  </thead>\n",
       "  <tbody>\n",
       "    <tr>\n",
       "      <th>PTR</th>\n",
       "      <td>2,490</td>\n",
       "      <td>1%</td>\n",
       "    </tr>\n",
       "    <tr>\n",
       "      <th>Surety</th>\n",
       "      <td>2,490</td>\n",
       "      <td>40%</td>\n",
       "    </tr>\n",
       "    <tr>\n",
       "      <th>Cash</th>\n",
       "      <td>2,490</td>\n",
       "      <td>0%</td>\n",
       "    </tr>\n",
       "    <tr>\n",
       "      <th>None</th>\n",
       "      <td>2,490</td>\n",
       "      <td>57%</td>\n",
       "    </tr>\n",
       "  </tbody>\n",
       "</table>\n",
       "</div>"
      ],
      "text/plain": [
       "         Sample Size Mean Value\n",
       "Variable                       \n",
       "PTR            2,490         1%\n",
       "Surety         2,490        40%\n",
       "Cash           2,490         0%\n",
       "None           2,490        57%"
      ]
     },
     "execution_count": 6,
     "metadata": {},
     "output_type": "execute_result"
    }
   ],
   "source": [
    "df_desc.loc[['PTR', 'Surety', 'Cash', 'None']]"
   ]
  },
  {
   "cell_type": "markdown",
   "metadata": {
    "slideshow": {
     "slide_type": "subslide"
    }
   },
   "source": [
    "# Describe Defendants: Legal Representation  \n",
    "Only 35% of defendants hired a private attorney."
   ]
  },
  {
   "cell_type": "code",
   "execution_count": 7,
   "metadata": {
    "hideCode": true,
    "slideshow": {
     "slide_type": "fragment"
    }
   },
   "outputs": [
    {
     "data": {
      "text/html": [
       "<div>\n",
       "<style scoped>\n",
       "    .dataframe tbody tr th:only-of-type {\n",
       "        vertical-align: middle;\n",
       "    }\n",
       "\n",
       "    .dataframe tbody tr th {\n",
       "        vertical-align: top;\n",
       "    }\n",
       "\n",
       "    .dataframe thead th {\n",
       "        text-align: right;\n",
       "    }\n",
       "</style>\n",
       "<table border=\"1\" class=\"dataframe\">\n",
       "  <thead>\n",
       "    <tr style=\"text-align: right;\">\n",
       "      <th></th>\n",
       "      <th>Sample Size</th>\n",
       "      <th>Mean Value</th>\n",
       "    </tr>\n",
       "    <tr>\n",
       "      <th>Variable</th>\n",
       "      <th></th>\n",
       "      <th></th>\n",
       "    </tr>\n",
       "  </thead>\n",
       "  <tbody>\n",
       "    <tr>\n",
       "      <th>Hired Attorney</th>\n",
       "      <td>2,490</td>\n",
       "      <td>34%</td>\n",
       "    </tr>\n",
       "    <tr>\n",
       "      <th>Appointed Attorney</th>\n",
       "      <td>2,490</td>\n",
       "      <td>58%</td>\n",
       "    </tr>\n",
       "    <tr>\n",
       "      <th>Public Defender</th>\n",
       "      <td>2,490</td>\n",
       "      <td>5%</td>\n",
       "    </tr>\n",
       "    <tr>\n",
       "      <th>Unknown Counsel</th>\n",
       "      <td>2,490</td>\n",
       "      <td>2%</td>\n",
       "    </tr>\n",
       "  </tbody>\n",
       "</table>\n",
       "</div>"
      ],
      "text/plain": [
       "                   Sample Size Mean Value\n",
       "Variable                                 \n",
       "Hired Attorney           2,490        34%\n",
       "Appointed Attorney       2,490        58%\n",
       "Public Defender          2,490         5%\n",
       "Unknown Counsel          2,490         2%"
      ]
     },
     "execution_count": 7,
     "metadata": {},
     "output_type": "execute_result"
    }
   ],
   "source": [
    "df_desc.loc[['Hired Attorney', 'Appointed Attorney', 'Public Defender', 'Unknown Counsel']]"
   ]
  },
  {
   "cell_type": "markdown",
   "metadata": {
    "hideCode": false,
    "slideshow": {
     "slide_type": "subslide"
    }
   },
   "source": [
    "# Describe Defendants: Demographics  \n",
    "The majority of defendants (72%) were people of color.  \n",
    "48% of defendants were Black and 24% were Hispanic."
   ]
  },
  {
   "cell_type": "code",
   "execution_count": 8,
   "metadata": {
    "hideCode": true,
    "slideshow": {
     "slide_type": "fragment"
    }
   },
   "outputs": [
    {
     "data": {
      "text/html": [
       "<div>\n",
       "<style scoped>\n",
       "    .dataframe tbody tr th:only-of-type {\n",
       "        vertical-align: middle;\n",
       "    }\n",
       "\n",
       "    .dataframe tbody tr th {\n",
       "        vertical-align: top;\n",
       "    }\n",
       "\n",
       "    .dataframe thead th {\n",
       "        text-align: right;\n",
       "    }\n",
       "</style>\n",
       "<table border=\"1\" class=\"dataframe\">\n",
       "  <thead>\n",
       "    <tr style=\"text-align: right;\">\n",
       "      <th></th>\n",
       "      <th>Sample Size</th>\n",
       "      <th>Mean Value</th>\n",
       "    </tr>\n",
       "    <tr>\n",
       "      <th>Variable</th>\n",
       "      <th></th>\n",
       "      <th></th>\n",
       "    </tr>\n",
       "  </thead>\n",
       "  <tbody>\n",
       "    <tr>\n",
       "      <th>Black</th>\n",
       "      <td>2,490</td>\n",
       "      <td>48%</td>\n",
       "    </tr>\n",
       "    <tr>\n",
       "      <th>Hispanic</th>\n",
       "      <td>2,490</td>\n",
       "      <td>24%</td>\n",
       "    </tr>\n",
       "    <tr>\n",
       "      <th>White</th>\n",
       "      <td>2,490</td>\n",
       "      <td>25%</td>\n",
       "    </tr>\n",
       "  </tbody>\n",
       "</table>\n",
       "</div>"
      ],
      "text/plain": [
       "         Sample Size Mean Value\n",
       "Variable                       \n",
       "Black          2,490        48%\n",
       "Hispanic       2,490        24%\n",
       "White          2,490        25%"
      ]
     },
     "execution_count": 8,
     "metadata": {},
     "output_type": "execute_result"
    }
   ],
   "source": [
    "df_desc.loc[['Black', 'Hispanic', 'White']]"
   ]
  },
  {
   "cell_type": "markdown",
   "metadata": {
    "slideshow": {
     "slide_type": "fragment"
    }
   },
   "source": [
    "The majority of defendants (83%) were Male."
   ]
  },
  {
   "cell_type": "code",
   "execution_count": 9,
   "metadata": {
    "hideCode": true,
    "slideshow": {
     "slide_type": "fragment"
    }
   },
   "outputs": [
    {
     "data": {
      "text/html": [
       "<div>\n",
       "<style scoped>\n",
       "    .dataframe tbody tr th:only-of-type {\n",
       "        vertical-align: middle;\n",
       "    }\n",
       "\n",
       "    .dataframe tbody tr th {\n",
       "        vertical-align: top;\n",
       "    }\n",
       "\n",
       "    .dataframe thead th {\n",
       "        text-align: right;\n",
       "    }\n",
       "</style>\n",
       "<table border=\"1\" class=\"dataframe\">\n",
       "  <thead>\n",
       "    <tr style=\"text-align: right;\">\n",
       "      <th></th>\n",
       "      <th>Sample Size</th>\n",
       "      <th>Mean Value</th>\n",
       "    </tr>\n",
       "    <tr>\n",
       "      <th>Variable</th>\n",
       "      <th></th>\n",
       "      <th></th>\n",
       "    </tr>\n",
       "  </thead>\n",
       "  <tbody>\n",
       "    <tr>\n",
       "      <th>Male</th>\n",
       "      <td>2,490</td>\n",
       "      <td>82%</td>\n",
       "    </tr>\n",
       "    <tr>\n",
       "      <th>Female</th>\n",
       "      <td>2,490</td>\n",
       "      <td>17%</td>\n",
       "    </tr>\n",
       "  </tbody>\n",
       "</table>\n",
       "</div>"
      ],
      "text/plain": [
       "         Sample Size Mean Value\n",
       "Variable                       \n",
       "Male           2,490        82%\n",
       "Female         2,490        17%"
      ]
     },
     "execution_count": 9,
     "metadata": {},
     "output_type": "execute_result"
    }
   ],
   "source": [
    "df_desc.loc[['Male', 'Female']]"
   ]
  },
  {
   "cell_type": "markdown",
   "metadata": {
    "slideshow": {
     "slide_type": "subslide"
    }
   },
   "source": [
    "# Describe Defendants: Felony Class  \n",
    "The most frequent (45%) felony charge was a State Jail Felony (FS).  \n",
    "Less than 1% of defendants were charged with a Capital Felony (FC)."
   ]
  },
  {
   "cell_type": "code",
   "execution_count": 10,
   "metadata": {
    "hideCode": true,
    "slideshow": {
     "slide_type": "fragment"
    }
   },
   "outputs": [
    {
     "data": {
      "text/html": [
       "<div>\n",
       "<style scoped>\n",
       "    .dataframe tbody tr th:only-of-type {\n",
       "        vertical-align: middle;\n",
       "    }\n",
       "\n",
       "    .dataframe tbody tr th {\n",
       "        vertical-align: top;\n",
       "    }\n",
       "\n",
       "    .dataframe thead th {\n",
       "        text-align: right;\n",
       "    }\n",
       "</style>\n",
       "<table border=\"1\" class=\"dataframe\">\n",
       "  <thead>\n",
       "    <tr style=\"text-align: right;\">\n",
       "      <th></th>\n",
       "      <th>Sample Size</th>\n",
       "      <th>Mean Value</th>\n",
       "    </tr>\n",
       "    <tr>\n",
       "      <th>Variable</th>\n",
       "      <th></th>\n",
       "      <th></th>\n",
       "    </tr>\n",
       "  </thead>\n",
       "  <tbody>\n",
       "    <tr>\n",
       "      <th>F1</th>\n",
       "      <td>2,490</td>\n",
       "      <td>9%</td>\n",
       "    </tr>\n",
       "    <tr>\n",
       "      <th>F2</th>\n",
       "      <td>2,490</td>\n",
       "      <td>17%</td>\n",
       "    </tr>\n",
       "    <tr>\n",
       "      <th>F3</th>\n",
       "      <td>2,490</td>\n",
       "      <td>22%</td>\n",
       "    </tr>\n",
       "    <tr>\n",
       "      <th>FC</th>\n",
       "      <td>2,490</td>\n",
       "      <td>0%</td>\n",
       "    </tr>\n",
       "    <tr>\n",
       "      <th>FS</th>\n",
       "      <td>2,490</td>\n",
       "      <td>49%</td>\n",
       "    </tr>\n",
       "  </tbody>\n",
       "</table>\n",
       "</div>"
      ],
      "text/plain": [
       "         Sample Size Mean Value\n",
       "Variable                       \n",
       "F1             2,490         9%\n",
       "F2             2,490        17%\n",
       "F3             2,490        22%\n",
       "FC             2,490         0%\n",
       "FS             2,490        49%"
      ]
     },
     "execution_count": 10,
     "metadata": {},
     "output_type": "execute_result"
    }
   ],
   "source": [
    "df_desc.loc[['F1', 'F2', 'F3', 'FC', 'FS']]"
   ]
  },
  {
   "cell_type": "markdown",
   "metadata": {
    "slideshow": {
     "slide_type": "subslide"
    }
   },
   "source": [
    "# Describe Defendants: Prior Charges  \n",
    "53% of defendants had a prior felony charge and 65% had a prior misdemeanor charge."
   ]
  },
  {
   "cell_type": "code",
   "execution_count": 11,
   "metadata": {
    "hideCode": true,
    "slideshow": {
     "slide_type": "fragment"
    }
   },
   "outputs": [
    {
     "data": {
      "text/html": [
       "<div>\n",
       "<style scoped>\n",
       "    .dataframe tbody tr th:only-of-type {\n",
       "        vertical-align: middle;\n",
       "    }\n",
       "\n",
       "    .dataframe tbody tr th {\n",
       "        vertical-align: top;\n",
       "    }\n",
       "\n",
       "    .dataframe thead th {\n",
       "        text-align: right;\n",
       "    }\n",
       "</style>\n",
       "<table border=\"1\" class=\"dataframe\">\n",
       "  <thead>\n",
       "    <tr style=\"text-align: right;\">\n",
       "      <th></th>\n",
       "      <th>Sample Size</th>\n",
       "      <th>Mean Value</th>\n",
       "    </tr>\n",
       "    <tr>\n",
       "      <th>Variable</th>\n",
       "      <th></th>\n",
       "      <th></th>\n",
       "    </tr>\n",
       "  </thead>\n",
       "  <tbody>\n",
       "    <tr>\n",
       "      <th>Prior Felony</th>\n",
       "      <td>2,490</td>\n",
       "      <td>52%</td>\n",
       "    </tr>\n",
       "    <tr>\n",
       "      <th>Prior Misdemeanor</th>\n",
       "      <td>2,490</td>\n",
       "      <td>65%</td>\n",
       "    </tr>\n",
       "  </tbody>\n",
       "</table>\n",
       "</div>"
      ],
      "text/plain": [
       "                  Sample Size Mean Value\n",
       "Variable                                \n",
       "Prior Felony            2,490        52%\n",
       "Prior Misdemeanor       2,490        65%"
      ]
     },
     "execution_count": 11,
     "metadata": {},
     "output_type": "execute_result"
    }
   ],
   "source": [
    "df_desc.loc[['Prior Felony', 'Prior Misdemeanor']]"
   ]
  },
  {
   "cell_type": "markdown",
   "metadata": {
    "slideshow": {
     "slide_type": "fragment"
    }
   },
   "source": [
    "On average, a defendant had previously been charged with:   \n",
    "* 1.9 felonies  \n",
    "* 2.3 misdemeanors"
   ]
  },
  {
   "cell_type": "code",
   "execution_count": 12,
   "metadata": {
    "hideCode": true,
    "slideshow": {
     "slide_type": "skip"
    }
   },
   "outputs": [
    {
     "data": {
      "text/html": [
       "<div>\n",
       "<style scoped>\n",
       "    .dataframe tbody tr th:only-of-type {\n",
       "        vertical-align: middle;\n",
       "    }\n",
       "\n",
       "    .dataframe tbody tr th {\n",
       "        vertical-align: top;\n",
       "    }\n",
       "\n",
       "    .dataframe thead th {\n",
       "        text-align: right;\n",
       "    }\n",
       "</style>\n",
       "<table border=\"1\" class=\"dataframe\">\n",
       "  <thead>\n",
       "    <tr style=\"text-align: right;\">\n",
       "      <th></th>\n",
       "      <th>Sample Size</th>\n",
       "      <th>Mean Value</th>\n",
       "    </tr>\n",
       "    <tr>\n",
       "      <th>Variable</th>\n",
       "      <th></th>\n",
       "      <th></th>\n",
       "    </tr>\n",
       "  </thead>\n",
       "  <tbody>\n",
       "    <tr>\n",
       "      <th>Prior Felony Count</th>\n",
       "      <td>2,490</td>\n",
       "      <td>1.89</td>\n",
       "    </tr>\n",
       "    <tr>\n",
       "      <th>Prior Misdemeanor Count</th>\n",
       "      <td>2,490</td>\n",
       "      <td>2.30</td>\n",
       "    </tr>\n",
       "  </tbody>\n",
       "</table>\n",
       "</div>"
      ],
      "text/plain": [
       "                        Sample Size  Mean Value\n",
       "Variable                                       \n",
       "Prior Felony Count            2,490        1.89\n",
       "Prior Misdemeanor Count       2,490        2.30"
      ]
     },
     "execution_count": 12,
     "metadata": {},
     "output_type": "execute_result"
    }
   ],
   "source": [
    "df_desc['Mean Value'] = df_desc['Mean Value'].apply(lambda x: float(x.strip('%'))/100)\n",
    "df_desc.loc[['Prior Felony Count', 'Prior Misdemeanor Count']]"
   ]
  },
  {
   "cell_type": "markdown",
   "metadata": {
    "slideshow": {
     "slide_type": "subslide"
    }
   },
   "source": [
    "# Describe Defendants: Bond Amount  \n",
    "On average, a defendant's Bond Amount was set at $22,369."
   ]
  },
  {
   "cell_type": "code",
   "execution_count": 13,
   "metadata": {
    "hideCode": true,
    "slideshow": {
     "slide_type": "fragment"
    }
   },
   "outputs": [
    {
     "data": {
      "text/html": [
       "<div>\n",
       "<style scoped>\n",
       "    .dataframe tbody tr th:only-of-type {\n",
       "        vertical-align: middle;\n",
       "    }\n",
       "\n",
       "    .dataframe tbody tr th {\n",
       "        vertical-align: top;\n",
       "    }\n",
       "\n",
       "    .dataframe thead th {\n",
       "        text-align: right;\n",
       "    }\n",
       "</style>\n",
       "<table border=\"1\" class=\"dataframe\">\n",
       "  <thead>\n",
       "    <tr style=\"text-align: right;\">\n",
       "      <th></th>\n",
       "      <th>Sample Size</th>\n",
       "      <th>Mean Value</th>\n",
       "    </tr>\n",
       "    <tr>\n",
       "      <th>Variable</th>\n",
       "      <th></th>\n",
       "      <th></th>\n",
       "    </tr>\n",
       "  </thead>\n",
       "  <tbody>\n",
       "    <tr>\n",
       "      <th>Bond Amount</th>\n",
       "      <td>2,490</td>\n",
       "      <td>$23,424</td>\n",
       "    </tr>\n",
       "  </tbody>\n",
       "</table>\n",
       "</div>"
      ],
      "text/plain": [
       "            Sample Size Mean Value\n",
       "Variable                          \n",
       "Bond Amount       2,490    $23,424"
      ]
     },
     "execution_count": 13,
     "metadata": {},
     "output_type": "execute_result"
    }
   ],
   "source": [
    "df_desc['Mean Value'] = df_desc['Mean Value'].apply(lambda x: '${:,.0f}'.format(x))\n",
    "df_desc.loc[['Bond Amount']]"
   ]
  },
  {
   "cell_type": "markdown",
   "metadata": {
    "slideshow": {
     "slide_type": "slide"
    }
   },
   "source": [
    "# Factors that Influence Bond Amount  \n",
    "A linear regression model was used to identify factors that have a statistically significant relationship with bond amount.  \n",
    "The model uncovers a few key findings, including:  \n",
    "* Defendants tend to receive a higher bond amount when charged with a more severe felony or having a history of prior felony charges.  \n",
    "* Hispanic, Male, and older defendants often receive a higher bond amount regardless of the crime's severity or their criminal history.  "
   ]
  },
  {
   "cell_type": "code",
   "execution_count": 14,
   "metadata": {
    "hideCode": true
   },
   "outputs": [],
   "source": [
    "df_bond_model = df.rename(columns={'Offense Against Family': 'Family_Offense',\n",
    "                                 'DWI': 'DWI_Offense',\n",
    "                                 'Prior Felony': 'Prior_Felony',\n",
    "                                 'Hired Attorney': 'Hired_Attorney',\n",
    "                                 'Appointed Attorney': 'Appointed_Attorney',\n",
    "                                 'Public Defender': 'Public_Defender',\n",
    "                                 'Made Bail': 'Made_Bail'})\n",
    "\n",
    "results = smf.ols('Bond_Amount_ln ~ FC + F1 + F2 + F3 + Prior_Felony + Black + Hispanic + Male + Age', data=df_bond_model).fit()"
   ]
  },
  {
   "cell_type": "code",
   "execution_count": 15,
   "metadata": {
    "hideCode": true,
    "slideshow": {
     "slide_type": "slide"
    }
   },
   "outputs": [
    {
     "name": "stdout",
     "output_type": "stream",
     "text": [
      "\n",
      "The null hypothesis is rejected in the F-test of overall significance with a p-value of 0.0 and an F-statistic of 173.187. The adjusted R squared statistic is 0.384.\n",
      "\n"
     ]
    }
   ],
   "source": [
    "print(\"\"\"\n",
    "The null hypothesis is rejected in the F-test of overall significance with a p-value of {0} and an F-statistic of {1}. The adjusted R squared statistic is {2}.\n",
    "\"\"\".format(round(results.f_pvalue, 3), round(results.fvalue, 3), round(results.rsquared_adj, 3)))"
   ]
  },
  {
   "cell_type": "markdown",
   "metadata": {
    "slideshow": {
     "slide_type": "slide"
    }
   },
   "source": [
    "The following factors have a statistically significant (p < 0.05) and positive relationship with bond amount.  Factors are listed in order of importance. "
   ]
  },
  {
   "cell_type": "code",
   "execution_count": 16,
   "metadata": {
    "hideCode": true
   },
   "outputs": [
    {
     "data": {
      "text/html": [
       "<div>\n",
       "<style scoped>\n",
       "    .dataframe tbody tr th:only-of-type {\n",
       "        vertical-align: middle;\n",
       "    }\n",
       "\n",
       "    .dataframe tbody tr th {\n",
       "        vertical-align: top;\n",
       "    }\n",
       "\n",
       "    .dataframe thead th {\n",
       "        text-align: right;\n",
       "    }\n",
       "</style>\n",
       "<table border=\"1\" class=\"dataframe\">\n",
       "  <thead>\n",
       "    <tr style=\"text-align: right;\">\n",
       "      <th></th>\n",
       "      <th>Coefficient</th>\n",
       "      <th>P-Value</th>\n",
       "    </tr>\n",
       "  </thead>\n",
       "  <tbody>\n",
       "    <tr>\n",
       "      <th>F1</th>\n",
       "      <td>1.871</td>\n",
       "      <td>0.000</td>\n",
       "    </tr>\n",
       "    <tr>\n",
       "      <th>F2</th>\n",
       "      <td>1.181</td>\n",
       "      <td>0.000</td>\n",
       "    </tr>\n",
       "    <tr>\n",
       "      <th>F3</th>\n",
       "      <td>0.379</td>\n",
       "      <td>0.000</td>\n",
       "    </tr>\n",
       "    <tr>\n",
       "      <th>Prior_Felony</th>\n",
       "      <td>0.554</td>\n",
       "      <td>0.000</td>\n",
       "    </tr>\n",
       "    <tr>\n",
       "      <th>Hispanic</th>\n",
       "      <td>0.134</td>\n",
       "      <td>0.006</td>\n",
       "    </tr>\n",
       "    <tr>\n",
       "      <th>Male</th>\n",
       "      <td>0.213</td>\n",
       "      <td>0.000</td>\n",
       "    </tr>\n",
       "    <tr>\n",
       "      <th>Age</th>\n",
       "      <td>0.012</td>\n",
       "      <td>0.000</td>\n",
       "    </tr>\n",
       "  </tbody>\n",
       "</table>\n",
       "</div>"
      ],
      "text/plain": [
       "              Coefficient  P-Value\n",
       "F1                  1.871    0.000\n",
       "F2                  1.181    0.000\n",
       "F3                  0.379    0.000\n",
       "Prior_Felony        0.554    0.000\n",
       "Hispanic            0.134    0.006\n",
       "Male                0.213    0.000\n",
       "Age                 0.012    0.000"
      ]
     },
     "execution_count": 16,
     "metadata": {},
     "output_type": "execute_result"
    }
   ],
   "source": [
    "df_coef = pd.concat([results.params, results.pvalues], axis=1)\n",
    "df_coef.columns=['Coefficient', 'P-Value']\n",
    "df_coef = df_coef.drop(['Intercept'])\n",
    "df_coef['P-Value'] = round(df_coef['P-Value'], 3)\n",
    "df_coef['Coefficient'] = round(df_coef['Coefficient'], 3)\n",
    "df_coef = df_coef.loc[df_coef['P-Value'] < 0.05]\n",
    "df_coef"
   ]
  },
  {
   "cell_type": "markdown",
   "metadata": {},
   "source": [
    "Listed below are the full results from the linear regression model."
   ]
  },
  {
   "cell_type": "code",
   "execution_count": 17,
   "metadata": {
    "hideCode": true,
    "slideshow": {
     "slide_type": "skip"
    }
   },
   "outputs": [
    {
     "data": {
      "text/html": [
       "<table class=\"simpletable\">\n",
       "<tr>\n",
       "        <td>Model:</td>               <td>OLS</td>         <td>Adj. R-squared:</td>     <td>0.384</td>  \n",
       "</tr>\n",
       "<tr>\n",
       "  <td>Dependent Variable:</td>  <td>Bond_Amount_ln</td>         <td>AIC:</td>         <td>6259.8143</td>\n",
       "</tr>\n",
       "<tr>\n",
       "         <td>Date:</td>        <td>2018-04-21 22:04</td>        <td>BIC:</td>         <td>6318.0147</td>\n",
       "</tr>\n",
       "<tr>\n",
       "   <td>No. Observations:</td>        <td>2490</td>         <td>Log-Likelihood:</td>    <td>-3119.9</td> \n",
       "</tr>\n",
       "<tr>\n",
       "       <td>Df Model:</td>              <td>9</td>           <td>F-statistic:</td>       <td>173.2</td>  \n",
       "</tr>\n",
       "<tr>\n",
       "     <td>Df Residuals:</td>          <td>2480</td>       <td>Prob (F-statistic):</td> <td>5.03e-255</td>\n",
       "</tr>\n",
       "<tr>\n",
       "      <td>R-squared:</td>            <td>0.386</td>            <td>Scale:</td>         <td>0.72043</td> \n",
       "</tr>\n",
       "</table>\n",
       "<table class=\"simpletable\">\n",
       "<tr>\n",
       "        <td></td>        <th>Coef.</th>  <th>Std.Err.</th>     <th>t</th>     <th>P>|t|</th> <th>[0.025</th>  <th>0.975]</th>\n",
       "</tr>\n",
       "<tr>\n",
       "  <th>Intercept</th>    <td>8.0400</td>   <td>0.0726</td>  <td>110.8117</td> <td>0.0000</td> <td>7.8977</td>  <td>8.1823</td>\n",
       "</tr>\n",
       "<tr>\n",
       "  <th>FC</th>           <td>0.1716</td>   <td>0.8496</td>   <td>0.2020</td>  <td>0.8400</td> <td>-1.4944</td> <td>1.8376</td>\n",
       "</tr>\n",
       "<tr>\n",
       "  <th>F1</th>           <td>1.8713</td>   <td>0.0611</td>   <td>30.6065</td> <td>0.0000</td> <td>1.7514</td>  <td>1.9912</td>\n",
       "</tr>\n",
       "<tr>\n",
       "  <th>F2</th>           <td>1.1810</td>   <td>0.0481</td>   <td>24.5758</td> <td>0.0000</td> <td>1.0868</td>  <td>1.2753</td>\n",
       "</tr>\n",
       "<tr>\n",
       "  <th>F3</th>           <td>0.3794</td>   <td>0.0439</td>   <td>8.6517</td>  <td>0.0000</td> <td>0.2934</td>  <td>0.4655</td>\n",
       "</tr>\n",
       "<tr>\n",
       "  <th>Prior_Felony</th> <td>0.5545</td>   <td>0.0370</td>   <td>14.9822</td> <td>0.0000</td> <td>0.4819</td>  <td>0.6270</td>\n",
       "</tr>\n",
       "<tr>\n",
       "  <th>Black</th>        <td>-0.0671</td>  <td>0.0419</td>   <td>-1.6012</td> <td>0.1095</td> <td>-0.1493</td> <td>0.0151</td>\n",
       "</tr>\n",
       "<tr>\n",
       "  <th>Hispanic</th>     <td>0.1336</td>   <td>0.0482</td>   <td>2.7740</td>  <td>0.0056</td> <td>0.0392</td>  <td>0.2281</td>\n",
       "</tr>\n",
       "<tr>\n",
       "  <th>Male</th>         <td>0.2132</td>   <td>0.0457</td>   <td>4.6665</td>  <td>0.0000</td> <td>0.1236</td>  <td>0.3028</td>\n",
       "</tr>\n",
       "<tr>\n",
       "  <th>Age</th>          <td>0.0124</td>   <td>0.0016</td>   <td>7.8996</td>  <td>0.0000</td> <td>0.0093</td>  <td>0.0155</td>\n",
       "</tr>\n",
       "</table>\n",
       "<table class=\"simpletable\">\n",
       "<tr>\n",
       "     <td>Omnibus:</td>    <td>244.913</td>  <td>Durbin-Watson:</td>    <td>1.982</td> \n",
       "</tr>\n",
       "<tr>\n",
       "  <td>Prob(Omnibus):</td>  <td>0.000</td>  <td>Jarque-Bera (JB):</td> <td>422.908</td>\n",
       "</tr>\n",
       "<tr>\n",
       "       <td>Skew:</td>      <td>0.683</td>      <td>Prob(JB):</td>      <td>0.000</td> \n",
       "</tr>\n",
       "<tr>\n",
       "     <td>Kurtosis:</td>    <td>4.488</td>   <td>Condition No.:</td>    <td>1744</td>  \n",
       "</tr>\n",
       "</table>"
      ],
      "text/plain": [
       "<class 'statsmodels.iolib.summary2.Summary'>\n",
       "\"\"\"\n",
       "                 Results: Ordinary least squares\n",
       "==================================================================\n",
       "Model:              OLS              Adj. R-squared:     0.384    \n",
       "Dependent Variable: Bond_Amount_ln   AIC:                6259.8143\n",
       "Date:               2018-04-21 22:04 BIC:                6318.0147\n",
       "No. Observations:   2490             Log-Likelihood:     -3119.9  \n",
       "Df Model:           9                F-statistic:        173.2    \n",
       "Df Residuals:       2480             Prob (F-statistic): 5.03e-255\n",
       "R-squared:          0.386            Scale:              0.72043  \n",
       "-------------------------------------------------------------------\n",
       "                Coef.   Std.Err.     t      P>|t|    [0.025  0.975]\n",
       "-------------------------------------------------------------------\n",
       "Intercept       8.0400    0.0726  110.8117  0.0000   7.8977  8.1823\n",
       "FC              0.1716    0.8496    0.2020  0.8400  -1.4944  1.8376\n",
       "F1              1.8713    0.0611   30.6065  0.0000   1.7514  1.9912\n",
       "F2              1.1810    0.0481   24.5758  0.0000   1.0868  1.2753\n",
       "F3              0.3794    0.0439    8.6517  0.0000   0.2934  0.4655\n",
       "Prior_Felony    0.5545    0.0370   14.9822  0.0000   0.4819  0.6270\n",
       "Black          -0.0671    0.0419   -1.6012  0.1095  -0.1493  0.0151\n",
       "Hispanic        0.1336    0.0482    2.7740  0.0056   0.0392  0.2281\n",
       "Male            0.2132    0.0457    4.6665  0.0000   0.1236  0.3028\n",
       "Age             0.0124    0.0016    7.8996  0.0000   0.0093  0.0155\n",
       "------------------------------------------------------------------\n",
       "Omnibus:             244.913       Durbin-Watson:          1.982  \n",
       "Prob(Omnibus):       0.000         Jarque-Bera (JB):       422.908\n",
       "Skew:                0.683         Prob(JB):               0.000  \n",
       "Kurtosis:            4.488         Condition No.:          1744   \n",
       "==================================================================\n",
       "* The condition number is large (2e+03). This might indicate\n",
       "strong multicollinearity or other numerical problems.\n",
       "\"\"\""
      ]
     },
     "execution_count": 17,
     "metadata": {},
     "output_type": "execute_result"
    }
   ],
   "source": [
    "results.summary2()"
   ]
  },
  {
   "cell_type": "markdown",
   "metadata": {
    "slideshow": {
     "slide_type": "slide"
    }
   },
   "source": [
    "# Factors that Influence Pre-Trial Release  \n",
    "A logistic regression model was used to identify factors that have a statistically significant relationship with making bail and getting released before trial.  \n",
    "The model uncovers a few key findings, including:  \n",
    "* Defendants are less likely to make bail when their bond amount is higher.  \n",
    "* \n",
    "* Defendants tend to receive a higher bond amount when charged with a more severe felony or having a history of prior felony charges.  \n",
    "* Hispanic, Male, and older defendants often receive a higher bond amount regardless of the crime's severity or their criminal history.  "
   ]
  },
  {
   "cell_type": "code",
   "execution_count": 18,
   "metadata": {
    "hideCode": true
   },
   "outputs": [],
   "source": [
    "df_ptr_model = df.rename(columns={'Offense Against Family': 'Family_Offense',\n",
    "                                 'DWI': 'DWI_Offense',\n",
    "                                 'Prior Felony': 'Prior_Felony',\n",
    "                                 'Hired Attorney': 'Hired_Attorney',\n",
    "                                 'Appointed Attorney': 'Appointed_Attorney',\n",
    "                                 'Public Defender': 'Public_Defender',\n",
    "                                 'Made Bail': 'Made_Bail'})\n",
    "\n",
    "results = smf.logit('Made_Bail ~ Bond_Amount_ln + F1 + F2 + F3 + FS + Prior_Felony + Black + Hispanic + Male + Age + Hired_Attorney + Appointed_Attorney + Public_Defender', data=df_ptr_model).fit(full_output=False, disp=False)"
   ]
  },
  {
   "cell_type": "code",
   "execution_count": 19,
   "metadata": {
    "hideCode": true,
    "slideshow": {
     "slide_type": "slide"
    }
   },
   "outputs": [
    {
     "name": "stdout",
     "output_type": "stream",
     "text": [
      "\n",
      "The null hypothesis is rejected in the Log Likelihood Ratio Test of overall significance with a p-value of 0.0 and \n",
      "a Log Likelihood Ratio of 1202.202.  The pseudo R squared statistic is 0.354.\n",
      "\n"
     ]
    }
   ],
   "source": [
    "print(\"\"\"\n",
    "The null hypothesis is rejected in the Log Likelihood Ratio Test of overall significance with a p-value of {0} and \n",
    "a Log Likelihood Ratio of {1}.  The pseudo R squared statistic is {2}.\n",
    "\"\"\".format(round(results.llr_pvalue, 3), round(results.llr, 3), round(results.prsquared, 3)))"
   ]
  },
  {
   "cell_type": "markdown",
   "metadata": {
    "slideshow": {
     "slide_type": "slide"
    }
   },
   "source": [
    "The following factors have a statistically significant (p < 0.05) relationship with the likelihood of making bail.  \n",
    "Factors are listed from positive to negative correlation with making bail."
   ]
  },
  {
   "cell_type": "code",
   "execution_count": 20,
   "metadata": {
    "hideCode": true
   },
   "outputs": [
    {
     "data": {
      "text/html": [
       "<div>\n",
       "<style scoped>\n",
       "    .dataframe tbody tr th:only-of-type {\n",
       "        vertical-align: middle;\n",
       "    }\n",
       "\n",
       "    .dataframe tbody tr th {\n",
       "        vertical-align: top;\n",
       "    }\n",
       "\n",
       "    .dataframe thead th {\n",
       "        text-align: right;\n",
       "    }\n",
       "</style>\n",
       "<table border=\"1\" class=\"dataframe\">\n",
       "  <thead>\n",
       "    <tr style=\"text-align: right;\">\n",
       "      <th></th>\n",
       "      <th>Coefficient</th>\n",
       "      <th>P-Value</th>\n",
       "    </tr>\n",
       "  </thead>\n",
       "  <tbody>\n",
       "    <tr>\n",
       "      <th>Bond_Amount_ln</th>\n",
       "      <td>-0.785</td>\n",
       "      <td>0.000</td>\n",
       "    </tr>\n",
       "    <tr>\n",
       "      <th>Prior_Felony</th>\n",
       "      <td>-0.268</td>\n",
       "      <td>0.026</td>\n",
       "    </tr>\n",
       "    <tr>\n",
       "      <th>Hispanic</th>\n",
       "      <td>-0.535</td>\n",
       "      <td>0.001</td>\n",
       "    </tr>\n",
       "    <tr>\n",
       "      <th>Hired_Attorney</th>\n",
       "      <td>3.596</td>\n",
       "      <td>0.000</td>\n",
       "    </tr>\n",
       "    <tr>\n",
       "      <th>Public_Defender</th>\n",
       "      <td>0.919</td>\n",
       "      <td>0.015</td>\n",
       "    </tr>\n",
       "  </tbody>\n",
       "</table>\n",
       "</div>"
      ],
      "text/plain": [
       "                 Coefficient  P-Value\n",
       "Bond_Amount_ln        -0.785    0.000\n",
       "Prior_Felony          -0.268    0.026\n",
       "Hispanic              -0.535    0.001\n",
       "Hired_Attorney         3.596    0.000\n",
       "Public_Defender        0.919    0.015"
      ]
     },
     "execution_count": 20,
     "metadata": {},
     "output_type": "execute_result"
    }
   ],
   "source": [
    "df_coef = pd.concat([results.params, results.pvalues], axis=1)\n",
    "df_coef.columns=['Coefficient', 'P-Value']\n",
    "df_coef = df_coef.drop(['Intercept'])\n",
    "df_coef['P-Value'] = round(df_coef['P-Value'], 3)\n",
    "df_coef['Coefficient'] = round(df_coef['Coefficient'], 3)\n",
    "df_coef = df_coef.loc[df_coef['P-Value'] < 0.05]\n",
    "df_coef"
   ]
  },
  {
   "cell_type": "markdown",
   "metadata": {},
   "source": [
    "Listed below is a summary of results from the logistic regression model."
   ]
  },
  {
   "cell_type": "code",
   "execution_count": 21,
   "metadata": {
    "hideCode": true,
    "slideshow": {
     "slide_type": "skip"
    }
   },
   "outputs": [
    {
     "data": {
      "text/html": [
       "<table class=\"simpletable\">\n",
       "<tr>\n",
       "        <td>Model:</td>              <td>Logit</td>           <td>AIC:</td>        <td>2224.2682</td> \n",
       "</tr>\n",
       "<tr>\n",
       "  <td>Dependent Variable:</td>     <td>Made_Bail</td>         <td>BIC:</td>        <td>2305.7488</td> \n",
       "</tr>\n",
       "<tr>\n",
       "         <td>Date:</td>        <td>2018-04-21 22:05</td> <td>Log-Likelihood:</td>   <td>-1098.1</td>  \n",
       "</tr>\n",
       "<tr>\n",
       "   <td>No. Observations:</td>        <td>2490</td>          <td>LL-Null:</td>       <td>-1699.2</td>  \n",
       "</tr>\n",
       "<tr>\n",
       "       <td>Df Model:</td>             <td>13</td>         <td>LLR p-value:</td>   <td>5.9437e-249</td>\n",
       "</tr>\n",
       "<tr>\n",
       "     <td>Df Residuals:</td>          <td>2476</td>           <td>Scale:</td>        <td>1.0000</td>   \n",
       "</tr>\n",
       "<tr>\n",
       "   <td>Pseudo R-squared:</td>        <td>0.354</td>             <td></td>              <td></td>      \n",
       "</tr>\n",
       "</table>\n",
       "<table class=\"simpletable\">\n",
       "<tr>\n",
       "           <td></td>           <th>Coef.</th>  <th>Std.Err.</th>     <th>z</th>     <th>P>|z|</th> <th>[0.025</th>  <th>0.975]</th> \n",
       "</tr>\n",
       "<tr>\n",
       "  <th>Intercept</th>          <td>6.4821</td>   <td>0.9043</td>   <td>7.1683</td>  <td>0.0000</td> <td>4.7098</td>  <td>8.2545</td> \n",
       "</tr>\n",
       "<tr>\n",
       "  <th>Bond_Amount_ln</th>     <td>-0.7854</td>  <td>0.0683</td>  <td>-11.4979</td> <td>0.0000</td> <td>-0.9193</td> <td>-0.6515</td>\n",
       "</tr>\n",
       "<tr>\n",
       "  <th>F1</th>                 <td>0.4540</td>   <td>0.6326</td>   <td>0.7176</td>  <td>0.4730</td> <td>-0.7860</td> <td>1.6940</td> \n",
       "</tr>\n",
       "<tr>\n",
       "  <th>F2</th>                 <td>0.1388</td>   <td>0.6171</td>   <td>0.2249</td>  <td>0.8221</td> <td>-1.0708</td> <td>1.3483</td> \n",
       "</tr>\n",
       "<tr>\n",
       "  <th>F3</th>                 <td>-0.0095</td>  <td>0.6132</td>   <td>-0.0155</td> <td>0.9876</td> <td>-1.2114</td> <td>1.1924</td> \n",
       "</tr>\n",
       "<tr>\n",
       "  <th>FS</th>                 <td>-1.0001</td>  <td>0.6101</td>   <td>-1.6391</td> <td>0.1012</td> <td>-2.1960</td> <td>0.1958</td> \n",
       "</tr>\n",
       "<tr>\n",
       "  <th>Prior_Felony</th>       <td>-0.2682</td>  <td>0.1201</td>   <td>-2.2325</td> <td>0.0256</td> <td>-0.5037</td> <td>-0.0327</td>\n",
       "</tr>\n",
       "<tr>\n",
       "  <th>Black</th>              <td>0.1947</td>   <td>0.1325</td>   <td>1.4696</td>  <td>0.1417</td> <td>-0.0650</td> <td>0.4543</td> \n",
       "</tr>\n",
       "<tr>\n",
       "  <th>Hispanic</th>           <td>-0.5355</td>  <td>0.1576</td>   <td>-3.3986</td> <td>0.0007</td> <td>-0.8443</td> <td>-0.2267</td>\n",
       "</tr>\n",
       "<tr>\n",
       "  <th>Male</th>               <td>-0.1391</td>  <td>0.1432</td>   <td>-0.9716</td> <td>0.3312</td> <td>-0.4197</td> <td>0.1415</td> \n",
       "</tr>\n",
       "<tr>\n",
       "  <th>Age</th>                <td>-0.0059</td>  <td>0.0050</td>   <td>-1.1714</td> <td>0.2414</td> <td>-0.0158</td> <td>0.0040</td> \n",
       "</tr>\n",
       "<tr>\n",
       "  <th>Hired_Attorney</th>     <td>3.5965</td>   <td>0.3447</td>   <td>10.4342</td> <td>0.0000</td> <td>2.9209</td>  <td>4.2720</td> \n",
       "</tr>\n",
       "<tr>\n",
       "  <th>Appointed_Attorney</th> <td>0.3054</td>   <td>0.3281</td>   <td>0.9309</td>  <td>0.3519</td> <td>-0.3377</td> <td>0.9486</td> \n",
       "</tr>\n",
       "<tr>\n",
       "  <th>Public_Defender</th>    <td>0.9187</td>   <td>0.3761</td>   <td>2.4429</td>  <td>0.0146</td> <td>0.1816</td>  <td>1.6558</td> \n",
       "</tr>\n",
       "</table>"
      ],
      "text/plain": [
       "<class 'statsmodels.iolib.summary2.Summary'>\n",
       "\"\"\"\n",
       "                          Results: Logit\n",
       "===================================================================\n",
       "Model:               Logit             AIC:             2224.2682  \n",
       "Dependent Variable:  Made_Bail         BIC:             2305.7488  \n",
       "Date:                2018-04-21 22:05  Log-Likelihood:  -1098.1    \n",
       "No. Observations:    2490              LL-Null:         -1699.2    \n",
       "Df Model:            13                LLR p-value:     5.9437e-249\n",
       "Df Residuals:        2476              Scale:           1.0000     \n",
       "Pseudo R-squared:    0.354                                         \n",
       "-------------------------------------------------------------------\n",
       "                    Coef.  Std.Err.    z     P>|z|   [0.025  0.975]\n",
       "-------------------------------------------------------------------\n",
       "Intercept           6.4821   0.9043   7.1683 0.0000  4.7098  8.2545\n",
       "Bond_Amount_ln     -0.7854   0.0683 -11.4979 0.0000 -0.9193 -0.6515\n",
       "F1                  0.4540   0.6326   0.7176 0.4730 -0.7860  1.6940\n",
       "F2                  0.1388   0.6171   0.2249 0.8221 -1.0708  1.3483\n",
       "F3                 -0.0095   0.6132  -0.0155 0.9876 -1.2114  1.1924\n",
       "FS                 -1.0001   0.6101  -1.6391 0.1012 -2.1960  0.1958\n",
       "Prior_Felony       -0.2682   0.1201  -2.2325 0.0256 -0.5037 -0.0327\n",
       "Black               0.1947   0.1325   1.4696 0.1417 -0.0650  0.4543\n",
       "Hispanic           -0.5355   0.1576  -3.3986 0.0007 -0.8443 -0.2267\n",
       "Male               -0.1391   0.1432  -0.9716 0.3312 -0.4197  0.1415\n",
       "Age                -0.0059   0.0050  -1.1714 0.2414 -0.0158  0.0040\n",
       "Hired_Attorney      3.5965   0.3447  10.4342 0.0000  2.9209  4.2720\n",
       "Appointed_Attorney  0.3054   0.3281   0.9309 0.3519 -0.3377  0.9486\n",
       "Public_Defender     0.9187   0.3761   2.4429 0.0146  0.1816  1.6558\n",
       "===================================================================\n",
       "\n",
       "\"\"\""
      ]
     },
     "execution_count": 21,
     "metadata": {},
     "output_type": "execute_result"
    }
   ],
   "source": [
    "results.summary2()"
   ]
  }
 ],
 "metadata": {
  "celltoolbar": "Hide code",
  "kernelspec": {
   "display_name": "Python 3",
   "language": "python",
   "name": "python3"
  },
  "language_info": {
   "codemirror_mode": {
    "name": "ipython",
    "version": 3
   },
   "file_extension": ".py",
   "mimetype": "text/x-python",
   "name": "python",
   "nbconvert_exporter": "python",
   "pygments_lexer": "ipython3",
   "version": "3.6.5"
  }
 },
 "nbformat": 4,
 "nbformat_minor": 2
}
