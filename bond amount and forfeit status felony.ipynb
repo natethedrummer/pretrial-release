{
 "cells": [
  {
   "cell_type": "markdown",
   "metadata": {
    "hideCode": false,
    "hidePrompt": false
   },
   "source": [
    "# import packages"
   ]
  },
  {
   "cell_type": "code",
   "execution_count": 1,
   "metadata": {},
   "outputs": [],
   "source": [
    "%matplotlib inline \n",
    "import os\n",
    "import numpy as np\n",
    "import pandas as pd\n",
    "import matplotlib.pyplot as plt \n",
    "import seaborn as sns\n",
    "from scipy.stats import ttest_ind"
   ]
  },
  {
   "cell_type": "markdown",
   "metadata": {
    "hideCode": false,
    "hidePrompt": false
   },
   "source": [
    "# import bond data provided by Harris County"
   ]
  },
  {
   "cell_type": "code",
   "execution_count": 2,
   "metadata": {},
   "outputs": [
    {
     "name": "stderr",
     "output_type": "stream",
     "text": [
      "/anaconda/lib/python3.6/site-packages/ipykernel_launcher.py:20: FutureWarning: Sorting because non-concatenation axis is not aligned. A future version\n",
      "of pandas will change to not sort by default.\n",
      "\n",
      "To accept the future behavior, pass 'sort=False'.\n",
      "\n",
      "To retain the current behavior and silence the warning, pass 'sort=True'.\n",
      "\n"
     ]
    }
   ],
   "source": [
    "path = './fworrrevisedwheeler'\n",
    "\n",
    "file_list = ['/DATA - Wheeler (2017 approvals - felony).xlsx',\n",
    "'/DATA - Wheeler (2018 approvals - felony).xlsx']\n",
    "df_list = []\n",
    "for file in file_list: \n",
    "    for i in range(5):\n",
    "        df_iter = pd.read_excel(path+file, sheet_name=i)\n",
    "        df_list.append(df_iter)\n",
    "    approvals = pd.concat(df_list)\n",
    "    approvals['CaseNumber'] = approvals['CaseNumber'].astype(str)\n",
    "\n",
    "file_list = ['/DATA - Wheeler (2017 forfeitures - felony).xlsx',\n",
    "'/DATA - Wheeler (2018 forfeitures - felony).xlsx']\n",
    "df_list = []\n",
    "for file in file_list: \n",
    "    for i in range(5):\n",
    "        df_iter = pd.read_excel(path+file, sheet_name=i)\n",
    "        df_list.append(df_iter)\n",
    "        forfeitures = pd.concat(df_list)\n",
    "    forfeitures['CaseNumber'] = forfeitures['CaseNumber'].str[:-1]\n",
    "    forfeitures['CaseNumber'] = forfeitures['CaseNumber'] + '0'\n",
    "    forfeitures['ForfDate'] = forfeitures['ForfDate'].astype(int)\n",
    "    forfeitures['ForfDate'] = pd.to_datetime(forfeitures['ForfDate'], format='%Y%m%d')\n"
   ]
  },
  {
   "cell_type": "markdown",
   "metadata": {
    "hideCode": false,
    "hidePrompt": false
   },
   "source": [
    "# determine who forfeitted"
   ]
  },
  {
   "cell_type": "code",
   "execution_count": 3,
   "metadata": {
    "hideCode": false,
    "hidePrompt": false
   },
   "outputs": [],
   "source": [
    "df = approvals.merge(forfeitures, on='CaseNumber', how='left', suffixes=('_app', '_for'))\n",
    "\n",
    "df = df.dropna(subset=['BondAmtMade'])\n",
    "\n",
    "df['forfeit'] = np.where(df['ForfDate'] > df['DateApproved'], 1, 0)"
   ]
  },
  {
   "cell_type": "markdown",
   "metadata": {
    "hideCode": false,
    "hidePrompt": false
   },
   "source": [
    "# 2017 only"
   ]
  },
  {
   "cell_type": "code",
   "execution_count": 4,
   "metadata": {},
   "outputs": [],
   "source": [
    "df = df.loc[df['DateApproved'].dt.year==2017]"
   ]
  },
  {
   "cell_type": "markdown",
   "metadata": {
    "hideCode": false,
    "hidePrompt": false
   },
   "source": [
    "# bin BondAmtMade"
   ]
  },
  {
   "cell_type": "code",
   "execution_count": 5,
   "metadata": {},
   "outputs": [
    {
     "data": {
      "text/plain": [
       "count     23311.0\n",
       "mean      15212.0\n",
       "std       21955.0\n",
       "min         150.0\n",
       "25%        2500.0\n",
       "50%       10000.0\n",
       "75%       20000.0\n",
       "max      500000.0\n",
       "Name: BondAmtMade, dtype: float64"
      ]
     },
     "execution_count": 5,
     "metadata": {},
     "output_type": "execute_result"
    }
   ],
   "source": [
    "df['BondAmtMade'].describe().round(0)"
   ]
  },
  {
   "cell_type": "code",
   "execution_count": 6,
   "metadata": {},
   "outputs": [],
   "source": [
    "df['bond_group'] = pd.cut(df['BondAmtMade'], \n",
    "       bins=[0, 2000, 2001, 5000, 10000, 20000, 20001, 500001], \n",
    "       right=False, \n",
    "       labels=['< $2,000',\n",
    "              '$2,000',\n",
    "              '$2,001-$4,999',\n",
    "              '$5,000-$9,999',\n",
    "              '$10,000-$19,999',\n",
    "              '$20,000',\n",
    "              '> $20,000'])"
   ]
  },
  {
   "cell_type": "markdown",
   "metadata": {
    "hideCode": false,
    "hidePrompt": false
   },
   "source": [
    "# calculate bond amount summary statistics by bond type, bond amount binned, and forfeiture status"
   ]
  },
  {
   "cell_type": "code",
   "execution_count": 9,
   "metadata": {},
   "outputs": [],
   "source": [
    "df_mean = df.groupby(['CodeDesc', 'bond_group', 'forfeit']).agg({'BondAmtMade': 'mean'}).reset_index()\n",
    "\n",
    "df_mean = df_mean.pivot_table(index=['CodeDesc', 'bond_group'], columns='forfeit', values='BondAmtMade')\n",
    "\n",
    "df_mean.columns=['No Forfeit', 'Forfeit']"
   ]
  },
  {
   "cell_type": "markdown",
   "metadata": {
    "hideCode": false,
    "hidePrompt": false
   },
   "source": [
    "# test whether bond amounts are significantly different"
   ]
  },
  {
   "cell_type": "code",
   "execution_count": 10,
   "metadata": {
    "hideCode": false,
    "hidePrompt": false
   },
   "outputs": [
    {
     "name": "stderr",
     "output_type": "stream",
     "text": [
      "/anaconda/lib/python3.6/site-packages/numpy/core/fromnumeric.py:3194: RuntimeWarning: Degrees of freedom <= 0 for slice\n",
      "  **kwargs)\n",
      "/anaconda/lib/python3.6/site-packages/numpy/core/_methods.py:127: RuntimeWarning: invalid value encountered in double_scalars\n",
      "  ret = ret.dtype.type(ret / rcount)\n"
     ]
    }
   ],
   "source": [
    "df_list = []\n",
    "for i in df['CodeDesc'].unique().tolist():\n",
    "    df_code = df.copy(deep=True)\n",
    "    df_code = df_code.loc[df_code['CodeDesc']==i]\n",
    "    for x in df_code['bond_group'].unique().tolist():\n",
    "        df_bin = df_code.copy(deep=True)\n",
    "        df_bin = df_bin.loc[df_bin['bond_group']==x]\n",
    "        bond_forf = df_bin.loc[(df_bin['CodeDesc']==i) & (df_bin['forfeit']==1)]['BondAmtMade']\n",
    "        bond_no_forf = df_bin.loc[(df_bin['CodeDesc']==i) & (df_bin['forfeit']==0)]['BondAmtMade']\n",
    "        t, p = ttest_ind(bond_forf, bond_no_forf, equal_var=False)\n",
    "        d = {'code': i, 'bond_group': x}        \n",
    "        tr = pd.DataFrame(data=d, index=[0, 1])        \n",
    "        tr['t-stat']=round(t,2)\n",
    "        tr['p-value']=round(p,2)\n",
    "        df_list.append(tr)\n",
    "tr = pd.concat(df_list)\n",
    "\n",
    "tr = tr.rename(columns={'code': 'CodeDesc'})\n",
    "\n",
    "tr = tr.drop_duplicates()\n",
    "\n",
    "tr = tr.reset_index(drop=True)"
   ]
  },
  {
   "cell_type": "code",
   "execution_count": 11,
   "metadata": {},
   "outputs": [],
   "source": [
    "df_mean = df_mean.reset_index()"
   ]
  },
  {
   "cell_type": "code",
   "execution_count": 12,
   "metadata": {},
   "outputs": [],
   "source": [
    "# n cases"
   ]
  },
  {
   "cell_type": "code",
   "execution_count": 13,
   "metadata": {},
   "outputs": [],
   "source": [
    "df_out = df_mean.merge(tr, on=['CodeDesc', 'bond_group'])\n",
    "\n",
    "df_count = df.groupby(['CodeDesc', 'bond_group']).agg({'CaseNumber': 'count'}).reset_index()\n",
    "\n",
    "df_out = df_out.merge(df_count, on=['CodeDesc', 'bond_group'])\n",
    "\n",
    "df_out = df_out.rename(columns={'CaseNumber': 'N Cases'})"
   ]
  },
  {
   "cell_type": "code",
   "execution_count": 14,
   "metadata": {},
   "outputs": [],
   "source": [
    "# n forfeits"
   ]
  },
  {
   "cell_type": "code",
   "execution_count": 15,
   "metadata": {},
   "outputs": [],
   "source": [
    "df_out = df_out.merge(df.groupby(['CodeDesc', 'bond_group']).agg({'forfeit': 'sum'}).reset_index(), on=['CodeDesc', 'bond_group'])\n",
    "\n",
    "df_out = df_out.rename(columns={'forfeit': 'N Forfeitures'})"
   ]
  },
  {
   "cell_type": "code",
   "execution_count": 22,
   "metadata": {},
   "outputs": [],
   "source": [
    "df_out['t-stat'] = df_out['t-stat'].fillna(0)\n",
    "\n",
    "df_out['p-value'] = df_out['p-value'].fillna(1)\n",
    "\n",
    "df_out = df_out.set_index(['CodeDesc', 'bond_group'])\n",
    "\n",
    "df_out['Forfeit'] = df_out['Forfeit'].round(2)\n",
    "\n",
    "df_out['No Forfeit'] = df_out['No Forfeit'].round(2)\n",
    "\n",
    "# to excel\n",
    "\n",
    "df_out.to_excel('mean_bond_forfeit_felony.xlsx')"
   ]
  },
  {
   "cell_type": "code",
   "execution_count": null,
   "metadata": {},
   "outputs": [],
   "source": []
  }
 ],
 "metadata": {
  "hide_code_all_hidden": false,
  "kernelspec": {
   "display_name": "Python 3",
   "language": "python",
   "name": "python3"
  },
  "language_info": {
   "codemirror_mode": {
    "name": "ipython",
    "version": 3
   },
   "file_extension": ".py",
   "mimetype": "text/x-python",
   "name": "python",
   "nbconvert_exporter": "python",
   "pygments_lexer": "ipython3",
   "version": "3.6.4"
  }
 },
 "nbformat": 4,
 "nbformat_minor": 2
}
