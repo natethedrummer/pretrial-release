{
 "cells": [
  {
   "cell_type": "markdown",
   "metadata": {},
   "source": [
    "# import packages"
   ]
  },
  {
   "cell_type": "code",
   "execution_count": 32,
   "metadata": {},
   "outputs": [],
   "source": [
    "%matplotlib inline \n",
    "import os\n",
    "import numpy as np\n",
    "import pandas as pd\n",
    "import matplotlib.pyplot as plt \n",
    "import seaborn as sns\n",
    "from scipy.stats import ttest_ind"
   ]
  },
  {
   "cell_type": "code",
   "execution_count": 33,
   "metadata": {},
   "outputs": [],
   "source": [
    "path = './fworrrevisedwheeler'"
   ]
  },
  {
   "cell_type": "markdown",
   "metadata": {},
   "source": [
    "# import approvals data"
   ]
  },
  {
   "cell_type": "code",
   "execution_count": 40,
   "metadata": {},
   "outputs": [],
   "source": [
    "file_list = ['/DATA - Wheeler (2017 approvals - felony).xlsx',\n",
    "             '/DATA - Wheeler (2018 approvals - felony).xlsx',\n",
    "             '/DATA - Wheeler (2017 approvals - misd).xlsx',\n",
    "             '/DATA - Wheeler (2018 approvals - misd).xlsx']\n",
    "df_big_list = []\n",
    "for file in file_list: \n",
    "    df_list = []\n",
    "    for i in range(5):\n",
    "        df_iter = pd.read_excel(path+file, sheet_name=i)\n",
    "        df_list.append(df_iter)\n",
    "    approvals = pd.concat(df_list)\n",
    "    approvals['CaseNumber'] = approvals['CaseNumber'].astype(str)\n",
    "    approvals['charge_type'] = np.where('misd' in file, 'misd', 'felony')\n",
    "    df_big_list.append(approvals)\n",
    "approvals = pd.concat(df_big_list)"
   ]
  },
  {
   "cell_type": "code",
   "execution_count": 42,
   "metadata": {},
   "outputs": [
    {
     "data": {
      "text/plain": [
       "misd      84714\n",
       "felony    38446\n",
       "Name: charge_type, dtype: int64"
      ]
     },
     "execution_count": 42,
     "metadata": {},
     "output_type": "execute_result"
    }
   ],
   "source": [
    "approvals['charge_type'].value_counts()"
   ]
  },
  {
   "cell_type": "markdown",
   "metadata": {},
   "source": [
    "# import forfeitures data"
   ]
  },
  {
   "cell_type": "code",
   "execution_count": 43,
   "metadata": {},
   "outputs": [
    {
     "name": "stderr",
     "output_type": "stream",
     "text": [
      "/anaconda/lib/python3.6/site-packages/ipykernel_launcher.py:11: FutureWarning: Sorting because non-concatenation axis is not aligned. A future version\n",
      "of pandas will change to not sort by default.\n",
      "\n",
      "To accept the future behavior, pass 'sort=False'.\n",
      "\n",
      "To retain the current behavior and silence the warning, pass 'sort=True'.\n",
      "\n",
      "  # This is added back by InteractiveShellApp.init_path()\n",
      "/anaconda/lib/python3.6/site-packages/ipykernel_launcher.py:18: FutureWarning: Sorting because non-concatenation axis is not aligned. A future version\n",
      "of pandas will change to not sort by default.\n",
      "\n",
      "To accept the future behavior, pass 'sort=False'.\n",
      "\n",
      "To retain the current behavior and silence the warning, pass 'sort=True'.\n",
      "\n"
     ]
    }
   ],
   "source": [
    "file_list = ['/DATA - Wheeler (2017 forfeitures - felony).xlsx',\n",
    "             '/DATA - Wheeler (2018 forfeitures - felony).xlsx',\n",
    "             '/DATA - Wheeler (2017 forfeitures - misd).xlsx',\n",
    "             '/DATA - Wheeler (2018 forfeitures - misd).xlsx']\n",
    "df_big_list = []\n",
    "for file in file_list: \n",
    "    df_list = []\n",
    "    for i in range(5):\n",
    "        df_iter = pd.read_excel(path+file, sheet_name=i)\n",
    "        df_list.append(df_iter)\n",
    "        forfeitures = pd.concat(df_list)\n",
    "    forfeitures['CaseNumber'] = forfeitures['CaseNumber'].str[:-1]\n",
    "    forfeitures['CaseNumber'] = forfeitures['CaseNumber'] + '0'\n",
    "    forfeitures['ForfDate'] = forfeitures['ForfDate'].astype(int)\n",
    "    forfeitures['ForfDate'] = pd.to_datetime(forfeitures['ForfDate'], format='%Y%m%d')\n",
    "    forfeitures['charge_type'] = np.where('misd' in file, 'misd', 'felony')\n",
    "    df_big_list.append(forfeitures)\n",
    "forfeitures = pd.concat(df_big_list)"
   ]
  },
  {
   "cell_type": "code",
   "execution_count": 44,
   "metadata": {},
   "outputs": [
    {
     "data": {
      "text/plain": [
       "misd      20673\n",
       "felony     5367\n",
       "Name: charge_type, dtype: int64"
      ]
     },
     "execution_count": 44,
     "metadata": {},
     "output_type": "execute_result"
    }
   ],
   "source": [
    "forfeitures['charge_type'].value_counts()"
   ]
  },
  {
   "cell_type": "markdown",
   "metadata": {},
   "source": [
    "# determine who forfeited"
   ]
  },
  {
   "cell_type": "code",
   "execution_count": 71,
   "metadata": {},
   "outputs": [],
   "source": [
    "df = approvals.merge(forfeitures, on=['charge_type', 'CaseNumber'], how='left', suffixes=('_app', '_for'))\n",
    "df = df.dropna(subset=['BondAmtMade'])\n",
    "df['forfeit'] = np.where(df['ForfDate'] > df['DateApproved'], 1, 0)"
   ]
  },
  {
   "cell_type": "markdown",
   "metadata": {},
   "source": [
    "# bin bond amount"
   ]
  },
  {
   "cell_type": "code",
   "execution_count": 72,
   "metadata": {},
   "outputs": [],
   "source": [
    "df['bond_group'] = pd.cut(df['BondAmtMade'], \n",
    "       bins=[0, 2000, 2001, 5000, 10000, 20000, 20001, 500001], \n",
    "       right=False, \n",
    "       labels=['< $2,000',\n",
    "              '$2,000',\n",
    "              '$2,001-$4,999',\n",
    "              '$5,000-$9,999',\n",
    "              '$10,000-$19,999',\n",
    "              '$20,000',\n",
    "              '> $20,000'])"
   ]
  },
  {
   "cell_type": "markdown",
   "metadata": {},
   "source": [
    "# calc summary stats"
   ]
  },
  {
   "cell_type": "code",
   "execution_count": 73,
   "metadata": {},
   "outputs": [],
   "source": [
    "df_mean = df.groupby(['charge_type', 'CodeDesc', 'bond_group', 'forfeit']).agg({'BondAmtMade': 'mean'}).reset_index()\n",
    "df_mean = df_mean.pivot_table(index=['charge_type', 'CodeDesc', 'bond_group'], columns='forfeit', values='BondAmtMade')\n",
    "df_mean.columns=['No Forfeit', 'Forfeit']"
   ]
  },
  {
   "cell_type": "markdown",
   "metadata": {},
   "source": [
    "# run t-test"
   ]
  },
  {
   "cell_type": "code",
   "execution_count": 145,
   "metadata": {},
   "outputs": [
    {
     "ename": "KeyError",
     "evalue": "['charge_type', 'CodeDesc', 'bond_group']",
     "output_type": "error",
     "traceback": [
      "\u001b[0;31m---------------------------------------------------------------------------\u001b[0m",
      "\u001b[0;31mKeyError\u001b[0m                                  Traceback (most recent call last)",
      "\u001b[0;32m<ipython-input-145-8721d1a1b45b>\u001b[0m in \u001b[0;36m<module>\u001b[0;34m()\u001b[0m\n\u001b[0;32m----> 1\u001b[0;31m \u001b[0mdf\u001b[0m \u001b[0;34m=\u001b[0m \u001b[0mdf\u001b[0m\u001b[0;34m.\u001b[0m\u001b[0mdropna\u001b[0m\u001b[0;34m(\u001b[0m\u001b[0msubset\u001b[0m\u001b[0;34m=\u001b[0m\u001b[0;34m[\u001b[0m\u001b[0;34m'charge_type'\u001b[0m\u001b[0;34m,\u001b[0m \u001b[0;34m'CodeDesc'\u001b[0m\u001b[0;34m,\u001b[0m \u001b[0;34m'bond_group'\u001b[0m\u001b[0;34m]\u001b[0m\u001b[0;34m)\u001b[0m\u001b[0;34m\u001b[0m\u001b[0m\n\u001b[0m\u001b[1;32m      2\u001b[0m \u001b[0mdf\u001b[0m \u001b[0;34m=\u001b[0m \u001b[0mdf\u001b[0m\u001b[0;34m.\u001b[0m\u001b[0mset_index\u001b[0m\u001b[0;34m(\u001b[0m\u001b[0;34m[\u001b[0m\u001b[0;34m'charge_type'\u001b[0m\u001b[0;34m,\u001b[0m \u001b[0;34m'CodeDesc'\u001b[0m\u001b[0;34m,\u001b[0m \u001b[0;34m'bond_group'\u001b[0m\u001b[0;34m]\u001b[0m\u001b[0;34m)\u001b[0m\u001b[0;34m\u001b[0m\u001b[0m\n\u001b[1;32m      3\u001b[0m \u001b[0mdf_list\u001b[0m \u001b[0;34m=\u001b[0m \u001b[0;34m[\u001b[0m\u001b[0;34m]\u001b[0m\u001b[0;34m\u001b[0m\u001b[0m\n\u001b[1;32m      4\u001b[0m \u001b[0;32mfor\u001b[0m \u001b[0mx\u001b[0m \u001b[0;32min\u001b[0m \u001b[0mdf\u001b[0m\u001b[0;34m.\u001b[0m\u001b[0mindex\u001b[0m\u001b[0;34m.\u001b[0m\u001b[0munique\u001b[0m\u001b[0;34m(\u001b[0m\u001b[0;34m)\u001b[0m\u001b[0;34m:\u001b[0m\u001b[0;34m\u001b[0m\u001b[0m\n\u001b[1;32m      5\u001b[0m     \u001b[0mdf_bin\u001b[0m \u001b[0;34m=\u001b[0m \u001b[0mdf\u001b[0m\u001b[0;34m.\u001b[0m\u001b[0mcopy\u001b[0m\u001b[0;34m(\u001b[0m\u001b[0mdeep\u001b[0m\u001b[0;34m=\u001b[0m\u001b[0;32mTrue\u001b[0m\u001b[0;34m)\u001b[0m\u001b[0;34m\u001b[0m\u001b[0m\n",
      "\u001b[0;32m/anaconda/lib/python3.6/site-packages/pandas/core/frame.py\u001b[0m in \u001b[0;36mdropna\u001b[0;34m(self, axis, how, thresh, subset, inplace)\u001b[0m\n\u001b[1;32m   4283\u001b[0m                 \u001b[0mcheck\u001b[0m \u001b[0;34m=\u001b[0m \u001b[0mindices\u001b[0m \u001b[0;34m==\u001b[0m \u001b[0;34m-\u001b[0m\u001b[0;36m1\u001b[0m\u001b[0;34m\u001b[0m\u001b[0m\n\u001b[1;32m   4284\u001b[0m                 \u001b[0;32mif\u001b[0m \u001b[0mcheck\u001b[0m\u001b[0;34m.\u001b[0m\u001b[0many\u001b[0m\u001b[0;34m(\u001b[0m\u001b[0;34m)\u001b[0m\u001b[0;34m:\u001b[0m\u001b[0;34m\u001b[0m\u001b[0m\n\u001b[0;32m-> 4285\u001b[0;31m                     \u001b[0;32mraise\u001b[0m \u001b[0mKeyError\u001b[0m\u001b[0;34m(\u001b[0m\u001b[0mlist\u001b[0m\u001b[0;34m(\u001b[0m\u001b[0mnp\u001b[0m\u001b[0;34m.\u001b[0m\u001b[0mcompress\u001b[0m\u001b[0;34m(\u001b[0m\u001b[0mcheck\u001b[0m\u001b[0;34m,\u001b[0m \u001b[0msubset\u001b[0m\u001b[0;34m)\u001b[0m\u001b[0;34m)\u001b[0m\u001b[0;34m)\u001b[0m\u001b[0;34m\u001b[0m\u001b[0m\n\u001b[0m\u001b[1;32m   4286\u001b[0m                 \u001b[0magg_obj\u001b[0m \u001b[0;34m=\u001b[0m \u001b[0mself\u001b[0m\u001b[0;34m.\u001b[0m\u001b[0mtake\u001b[0m\u001b[0;34m(\u001b[0m\u001b[0mindices\u001b[0m\u001b[0;34m,\u001b[0m \u001b[0maxis\u001b[0m\u001b[0;34m=\u001b[0m\u001b[0magg_axis\u001b[0m\u001b[0;34m)\u001b[0m\u001b[0;34m\u001b[0m\u001b[0m\n\u001b[1;32m   4287\u001b[0m \u001b[0;34m\u001b[0m\u001b[0m\n",
      "\u001b[0;31mKeyError\u001b[0m: ['charge_type', 'CodeDesc', 'bond_group']"
     ]
    }
   ],
   "source": [
    "df = df.dropna(subset=['charge_type', 'CodeDesc', 'bond_group'])\n",
    "df = df.set_index(['charge_type', 'CodeDesc', 'bond_group'])\n",
    "df_list = []\n",
    "for x in df.index.unique():\n",
    "    df_bin = df.copy(deep=True)\n",
    "    df_bin = df_bin.loc[x]\n",
    "    bond_forf = df_bin.loc[df_bin['forfeit']==1]['BondAmtMade']\n",
    "    bond_no_forf = df_bin.loc[df_bin['forfeit']==0]['BondAmtMade']\n",
    "    t, p = ttest_ind(bond_forf, bond_no_forf, equal_var=False)\n",
    "    d = {'t-stat': t, 'p-value': p}    \n",
    "    tr = pd.DataFrame(data=d, index=[0])\n",
    "    df_list.append(tr)\n",
    "tr = pd.concat(df_list)\n",
    "tr = tr.set_index(df.index.unique())\n",
    "df_out = df_mean.merge(tr, left_index=True, right_index=True)\n",
    "df_out['t-stat'] = df_out['t-stat'].fillna(0)\n",
    "df_out['p-value'] = df_out['p-value'].fillna(1)"
   ]
  },
  {
   "cell_type": "markdown",
   "metadata": {},
   "source": [
    "# count the number of cases"
   ]
  },
  {
   "cell_type": "code",
   "execution_count": 155,
   "metadata": {},
   "outputs": [],
   "source": [
    "df_count = df.groupby(['charge_type', 'CodeDesc', 'bond_group']).agg({'CaseNumber': 'count'})\n",
    "df_out = df_out.merge(df_count, left_index=True, right_index=True)\n",
    "df_out = df_out.rename(columns={'CaseNumber': 'N Cases'})"
   ]
  },
  {
   "cell_type": "markdown",
   "metadata": {},
   "source": [
    "# count the number of forfeitures"
   ]
  },
  {
   "cell_type": "code",
   "execution_count": 172,
   "metadata": {},
   "outputs": [],
   "source": [
    "df_out = df_out.merge(df.groupby(['charge_type', 'CodeDesc', 'bond_group']).agg({'forfeit': 'sum'}),\n",
    "                     left_index=True, right_index=True)\n",
    "df_out = df_out.rename(columns={'forfeit': 'N Forfeitures'})"
   ]
  },
  {
   "cell_type": "markdown",
   "metadata": {},
   "source": [
    "# calculate the difference in mean bond rates"
   ]
  },
  {
   "cell_type": "code",
   "execution_count": 179,
   "metadata": {},
   "outputs": [],
   "source": [
    "df_out['Difference'] = df_out['Forfeit'] - df_out['No Forfeit']\n",
    "df_out['Relative Difference'] = (df_out['Forfeit'] - df_out['No Forfeit']) / df_out['No Forfeit']"
   ]
  },
  {
   "cell_type": "markdown",
   "metadata": {},
   "source": [
    "# write to excel"
   ]
  },
  {
   "cell_type": "code",
   "execution_count": 182,
   "metadata": {},
   "outputs": [],
   "source": [
    "df_out = df_out.reset_index()"
   ]
  },
  {
   "cell_type": "code",
   "execution_count": 184,
   "metadata": {},
   "outputs": [],
   "source": [
    "df_out.to_excel('bond_forfeit.xlsx', index=False)"
   ]
  },
  {
   "cell_type": "code",
   "execution_count": 186,
   "metadata": {},
   "outputs": [],
   "source": [
    "df.to_pickle('df_bond_forfeit.pkl')"
   ]
  },
  {
   "cell_type": "markdown",
   "metadata": {},
   "source": [
    "# type of bond by month"
   ]
  },
  {
   "cell_type": "code",
   "execution_count": 262,
   "metadata": {},
   "outputs": [],
   "source": [
    "# felony\n",
    "\n",
    "df = pd.read_pickle('df_bond_forfeit.pkl')\n",
    "\n",
    "df = df.reset_index()\n",
    "\n",
    "df = df[df['charge_type']=='felony']\n",
    "\n",
    "df = df[['charge_type', 'CodeDesc', 'DateApproved', 'CaseNumber']]\n",
    "\n",
    "df = df.drop_duplicates()\n",
    "\n",
    "df = df.dropna()\n",
    "\n",
    "df['month_approved'] = df['DateApproved'].values.astype('datetime64[M]')\n",
    "\n",
    "df = df.groupby(['charge_type', 'CodeDesc', 'month_approved']).agg({'CaseNumber': 'count'}).reset_index()\n",
    "\n",
    "df = df.rename(columns={'CaseNumber': 'n_cases'})\n",
    "\n",
    "df_f = df.copy(deep=True)"
   ]
  },
  {
   "cell_type": "code",
   "execution_count": 263,
   "metadata": {},
   "outputs": [],
   "source": [
    "# misd\n",
    "\n",
    "df = pd.read_pickle('df_bond_forfeit.pkl')\n",
    "\n",
    "df = df.reset_index()\n",
    "\n",
    "df = df[df['charge_type']=='misd']\n",
    "\n",
    "df = df[['charge_type', 'CodeDesc', 'DateApproved', 'CaseNumber']]\n",
    "\n",
    "df = df.drop_duplicates()\n",
    "\n",
    "df = df.dropna()\n",
    "\n",
    "df['month_approved'] = df['DateApproved'].values.astype('datetime64[M]')\n",
    "\n",
    "df = df.groupby(['charge_type', 'CodeDesc', 'month_approved']).agg({'CaseNumber': 'count'}).reset_index()\n",
    "\n",
    "df = df.rename(columns={'CaseNumber': 'n_cases'})\n",
    "\n",
    "df_misd = df.copy(deep=True)"
   ]
  },
  {
   "cell_type": "code",
   "execution_count": 264,
   "metadata": {},
   "outputs": [],
   "source": [
    "df = pd.concat([df_f, df_misd])"
   ]
  },
  {
   "cell_type": "code",
   "execution_count": 267,
   "metadata": {},
   "outputs": [],
   "source": [
    "df.to_excel('bond_time.xlsx')"
   ]
  },
  {
   "cell_type": "code",
   "execution_count": null,
   "metadata": {},
   "outputs": [],
   "source": []
  }
 ],
 "metadata": {
  "kernelspec": {
   "display_name": "Python 3",
   "language": "python",
   "name": "python3"
  },
  "language_info": {
   "codemirror_mode": {
    "name": "ipython",
    "version": 3
   },
   "file_extension": ".py",
   "mimetype": "text/x-python",
   "name": "python",
   "nbconvert_exporter": "python",
   "pygments_lexer": "ipython3",
   "version": "3.6.4"
  }
 },
 "nbformat": 4,
 "nbformat_minor": 2
}
